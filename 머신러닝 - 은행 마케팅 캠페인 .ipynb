{
 "cells": [
  {
   "cell_type": "markdown",
   "metadata": {
    "id": "4IbdstcPTV3G"
   },
   "source": [
    "### 머신러닝 - 은행 마케팅 캠페인 \n",
    "\n"
   ]
  },
  {
   "cell_type": "markdown",
   "metadata": {
    "id": "2aZsjk-dTz8_"
   },
   "source": [
    "#### 1. 데이터 불러오기"
   ]
  },
  {
   "cell_type": "code",
   "execution_count": null,
   "metadata": {},
   "outputs": [],
   "source": [
    "# 구글 드라이브 연결\n",
    "\n",
    "from google.colab import drive\n",
    "drive.mount('/content/gdrive')"
   ]
  },
  {
   "cell_type": "code",
   "execution_count": 3,
   "metadata": {
    "colab": {
     "base_uri": "https://localhost:8080/",
     "height": 363
    },
    "executionInfo": {
     "elapsed": 2615,
     "status": "ok",
     "timestamp": 1669428547288,
     "user": {
      "displayName": "최민영",
      "userId": "03119700151434472823"
     },
     "user_tz": -540
    },
    "id": "GQBQ4lnORWRE",
    "outputId": "10f27020-334a-4fbd-e9ed-2402fcaa5a44"
   },
   "outputs": [
    {
     "data": {
      "text/html": [
       "\n",
       "  <div id=\"df-e516dc8b-ed65-435a-a73b-d9dc1cadc062\">\n",
       "    <div class=\"colab-df-container\">\n",
       "      <div>\n",
       "<style scoped>\n",
       "    .dataframe tbody tr th:only-of-type {\n",
       "        vertical-align: middle;\n",
       "    }\n",
       "\n",
       "    .dataframe tbody tr th {\n",
       "        vertical-align: top;\n",
       "    }\n",
       "\n",
       "    .dataframe thead th {\n",
       "        text-align: right;\n",
       "    }\n",
       "</style>\n",
       "<table border=\"1\" class=\"dataframe\">\n",
       "  <thead>\n",
       "    <tr style=\"text-align: right;\">\n",
       "      <th></th>\n",
       "      <th>age</th>\n",
       "      <th>job</th>\n",
       "      <th>marital</th>\n",
       "      <th>education</th>\n",
       "      <th>default</th>\n",
       "      <th>balance</th>\n",
       "      <th>housing</th>\n",
       "      <th>loan</th>\n",
       "      <th>contact</th>\n",
       "      <th>day</th>\n",
       "      <th>month</th>\n",
       "      <th>duration</th>\n",
       "      <th>campaign</th>\n",
       "      <th>pdays</th>\n",
       "      <th>previous</th>\n",
       "      <th>poutcome</th>\n",
       "      <th>y</th>\n",
       "    </tr>\n",
       "  </thead>\n",
       "  <tbody>\n",
       "    <tr>\n",
       "      <th>0</th>\n",
       "      <td>30</td>\n",
       "      <td>unemployed</td>\n",
       "      <td>married</td>\n",
       "      <td>primary</td>\n",
       "      <td>no</td>\n",
       "      <td>1787</td>\n",
       "      <td>no</td>\n",
       "      <td>no</td>\n",
       "      <td>cellular</td>\n",
       "      <td>19</td>\n",
       "      <td>oct</td>\n",
       "      <td>79</td>\n",
       "      <td>1</td>\n",
       "      <td>-1</td>\n",
       "      <td>0</td>\n",
       "      <td>unknown</td>\n",
       "      <td>no</td>\n",
       "    </tr>\n",
       "    <tr>\n",
       "      <th>1</th>\n",
       "      <td>33</td>\n",
       "      <td>services</td>\n",
       "      <td>married</td>\n",
       "      <td>secondary</td>\n",
       "      <td>no</td>\n",
       "      <td>4789</td>\n",
       "      <td>yes</td>\n",
       "      <td>yes</td>\n",
       "      <td>cellular</td>\n",
       "      <td>11</td>\n",
       "      <td>may</td>\n",
       "      <td>220</td>\n",
       "      <td>1</td>\n",
       "      <td>339</td>\n",
       "      <td>4</td>\n",
       "      <td>failure</td>\n",
       "      <td>no</td>\n",
       "    </tr>\n",
       "    <tr>\n",
       "      <th>2</th>\n",
       "      <td>35</td>\n",
       "      <td>management</td>\n",
       "      <td>single</td>\n",
       "      <td>tertiary</td>\n",
       "      <td>no</td>\n",
       "      <td>1350</td>\n",
       "      <td>yes</td>\n",
       "      <td>no</td>\n",
       "      <td>cellular</td>\n",
       "      <td>16</td>\n",
       "      <td>apr</td>\n",
       "      <td>185</td>\n",
       "      <td>1</td>\n",
       "      <td>330</td>\n",
       "      <td>1</td>\n",
       "      <td>failure</td>\n",
       "      <td>no</td>\n",
       "    </tr>\n",
       "    <tr>\n",
       "      <th>3</th>\n",
       "      <td>30</td>\n",
       "      <td>management</td>\n",
       "      <td>married</td>\n",
       "      <td>tertiary</td>\n",
       "      <td>no</td>\n",
       "      <td>1476</td>\n",
       "      <td>yes</td>\n",
       "      <td>yes</td>\n",
       "      <td>unknown</td>\n",
       "      <td>3</td>\n",
       "      <td>jun</td>\n",
       "      <td>199</td>\n",
       "      <td>4</td>\n",
       "      <td>-1</td>\n",
       "      <td>0</td>\n",
       "      <td>unknown</td>\n",
       "      <td>no</td>\n",
       "    </tr>\n",
       "    <tr>\n",
       "      <th>4</th>\n",
       "      <td>59</td>\n",
       "      <td>blue-collar</td>\n",
       "      <td>married</td>\n",
       "      <td>secondary</td>\n",
       "      <td>no</td>\n",
       "      <td>0</td>\n",
       "      <td>yes</td>\n",
       "      <td>no</td>\n",
       "      <td>unknown</td>\n",
       "      <td>5</td>\n",
       "      <td>may</td>\n",
       "      <td>226</td>\n",
       "      <td>1</td>\n",
       "      <td>-1</td>\n",
       "      <td>0</td>\n",
       "      <td>unknown</td>\n",
       "      <td>no</td>\n",
       "    </tr>\n",
       "    <tr>\n",
       "      <th>5</th>\n",
       "      <td>35</td>\n",
       "      <td>management</td>\n",
       "      <td>single</td>\n",
       "      <td>tertiary</td>\n",
       "      <td>no</td>\n",
       "      <td>747</td>\n",
       "      <td>no</td>\n",
       "      <td>no</td>\n",
       "      <td>cellular</td>\n",
       "      <td>23</td>\n",
       "      <td>feb</td>\n",
       "      <td>141</td>\n",
       "      <td>2</td>\n",
       "      <td>176</td>\n",
       "      <td>3</td>\n",
       "      <td>failure</td>\n",
       "      <td>no</td>\n",
       "    </tr>\n",
       "    <tr>\n",
       "      <th>6</th>\n",
       "      <td>36</td>\n",
       "      <td>self-employed</td>\n",
       "      <td>married</td>\n",
       "      <td>tertiary</td>\n",
       "      <td>no</td>\n",
       "      <td>307</td>\n",
       "      <td>yes</td>\n",
       "      <td>no</td>\n",
       "      <td>cellular</td>\n",
       "      <td>14</td>\n",
       "      <td>may</td>\n",
       "      <td>341</td>\n",
       "      <td>1</td>\n",
       "      <td>330</td>\n",
       "      <td>2</td>\n",
       "      <td>other</td>\n",
       "      <td>no</td>\n",
       "    </tr>\n",
       "    <tr>\n",
       "      <th>7</th>\n",
       "      <td>39</td>\n",
       "      <td>technician</td>\n",
       "      <td>married</td>\n",
       "      <td>secondary</td>\n",
       "      <td>no</td>\n",
       "      <td>147</td>\n",
       "      <td>yes</td>\n",
       "      <td>no</td>\n",
       "      <td>cellular</td>\n",
       "      <td>6</td>\n",
       "      <td>may</td>\n",
       "      <td>151</td>\n",
       "      <td>2</td>\n",
       "      <td>-1</td>\n",
       "      <td>0</td>\n",
       "      <td>unknown</td>\n",
       "      <td>no</td>\n",
       "    </tr>\n",
       "    <tr>\n",
       "      <th>8</th>\n",
       "      <td>41</td>\n",
       "      <td>entrepreneur</td>\n",
       "      <td>married</td>\n",
       "      <td>tertiary</td>\n",
       "      <td>no</td>\n",
       "      <td>221</td>\n",
       "      <td>yes</td>\n",
       "      <td>no</td>\n",
       "      <td>unknown</td>\n",
       "      <td>14</td>\n",
       "      <td>may</td>\n",
       "      <td>57</td>\n",
       "      <td>2</td>\n",
       "      <td>-1</td>\n",
       "      <td>0</td>\n",
       "      <td>unknown</td>\n",
       "      <td>no</td>\n",
       "    </tr>\n",
       "    <tr>\n",
       "      <th>9</th>\n",
       "      <td>43</td>\n",
       "      <td>services</td>\n",
       "      <td>married</td>\n",
       "      <td>primary</td>\n",
       "      <td>no</td>\n",
       "      <td>-88</td>\n",
       "      <td>yes</td>\n",
       "      <td>yes</td>\n",
       "      <td>cellular</td>\n",
       "      <td>17</td>\n",
       "      <td>apr</td>\n",
       "      <td>313</td>\n",
       "      <td>1</td>\n",
       "      <td>147</td>\n",
       "      <td>2</td>\n",
       "      <td>failure</td>\n",
       "      <td>no</td>\n",
       "    </tr>\n",
       "  </tbody>\n",
       "</table>\n",
       "</div>\n",
       "      <button class=\"colab-df-convert\" onclick=\"convertToInteractive('df-e516dc8b-ed65-435a-a73b-d9dc1cadc062')\"\n",
       "              title=\"Convert this dataframe to an interactive table.\"\n",
       "              style=\"display:none;\">\n",
       "        \n",
       "  <svg xmlns=\"http://www.w3.org/2000/svg\" height=\"24px\"viewBox=\"0 0 24 24\"\n",
       "       width=\"24px\">\n",
       "    <path d=\"M0 0h24v24H0V0z\" fill=\"none\"/>\n",
       "    <path d=\"M18.56 5.44l.94 2.06.94-2.06 2.06-.94-2.06-.94-.94-2.06-.94 2.06-2.06.94zm-11 1L8.5 8.5l.94-2.06 2.06-.94-2.06-.94L8.5 2.5l-.94 2.06-2.06.94zm10 10l.94 2.06.94-2.06 2.06-.94-2.06-.94-.94-2.06-.94 2.06-2.06.94z\"/><path d=\"M17.41 7.96l-1.37-1.37c-.4-.4-.92-.59-1.43-.59-.52 0-1.04.2-1.43.59L10.3 9.45l-7.72 7.72c-.78.78-.78 2.05 0 2.83L4 21.41c.39.39.9.59 1.41.59.51 0 1.02-.2 1.41-.59l7.78-7.78 2.81-2.81c.8-.78.8-2.07 0-2.86zM5.41 20L4 18.59l7.72-7.72 1.47 1.35L5.41 20z\"/>\n",
       "  </svg>\n",
       "      </button>\n",
       "      \n",
       "  <style>\n",
       "    .colab-df-container {\n",
       "      display:flex;\n",
       "      flex-wrap:wrap;\n",
       "      gap: 12px;\n",
       "    }\n",
       "\n",
       "    .colab-df-convert {\n",
       "      background-color: #E8F0FE;\n",
       "      border: none;\n",
       "      border-radius: 50%;\n",
       "      cursor: pointer;\n",
       "      display: none;\n",
       "      fill: #1967D2;\n",
       "      height: 32px;\n",
       "      padding: 0 0 0 0;\n",
       "      width: 32px;\n",
       "    }\n",
       "\n",
       "    .colab-df-convert:hover {\n",
       "      background-color: #E2EBFA;\n",
       "      box-shadow: 0px 1px 2px rgba(60, 64, 67, 0.3), 0px 1px 3px 1px rgba(60, 64, 67, 0.15);\n",
       "      fill: #174EA6;\n",
       "    }\n",
       "\n",
       "    [theme=dark] .colab-df-convert {\n",
       "      background-color: #3B4455;\n",
       "      fill: #D2E3FC;\n",
       "    }\n",
       "\n",
       "    [theme=dark] .colab-df-convert:hover {\n",
       "      background-color: #434B5C;\n",
       "      box-shadow: 0px 1px 3px 1px rgba(0, 0, 0, 0.15);\n",
       "      filter: drop-shadow(0px 1px 2px rgba(0, 0, 0, 0.3));\n",
       "      fill: #FFFFFF;\n",
       "    }\n",
       "  </style>\n",
       "\n",
       "      <script>\n",
       "        const buttonEl =\n",
       "          document.querySelector('#df-e516dc8b-ed65-435a-a73b-d9dc1cadc062 button.colab-df-convert');\n",
       "        buttonEl.style.display =\n",
       "          google.colab.kernel.accessAllowed ? 'block' : 'none';\n",
       "\n",
       "        async function convertToInteractive(key) {\n",
       "          const element = document.querySelector('#df-e516dc8b-ed65-435a-a73b-d9dc1cadc062');\n",
       "          const dataTable =\n",
       "            await google.colab.kernel.invokeFunction('convertToInteractive',\n",
       "                                                     [key], {});\n",
       "          if (!dataTable) return;\n",
       "\n",
       "          const docLinkHtml = 'Like what you see? Visit the ' +\n",
       "            '<a target=\"_blank\" href=https://colab.research.google.com/notebooks/data_table.ipynb>data table notebook</a>'\n",
       "            + ' to learn more about interactive tables.';\n",
       "          element.innerHTML = '';\n",
       "          dataTable['output_type'] = 'display_data';\n",
       "          await google.colab.output.renderOutput(dataTable, element);\n",
       "          const docLink = document.createElement('div');\n",
       "          docLink.innerHTML = docLinkHtml;\n",
       "          element.appendChild(docLink);\n",
       "        }\n",
       "      </script>\n",
       "    </div>\n",
       "  </div>\n",
       "  "
      ],
      "text/plain": [
       "   age            job  marital  education default  balance housing loan  \\\n",
       "0   30     unemployed  married    primary      no     1787      no   no   \n",
       "1   33       services  married  secondary      no     4789     yes  yes   \n",
       "2   35     management   single   tertiary      no     1350     yes   no   \n",
       "3   30     management  married   tertiary      no     1476     yes  yes   \n",
       "4   59    blue-collar  married  secondary      no        0     yes   no   \n",
       "5   35     management   single   tertiary      no      747      no   no   \n",
       "6   36  self-employed  married   tertiary      no      307     yes   no   \n",
       "7   39     technician  married  secondary      no      147     yes   no   \n",
       "8   41   entrepreneur  married   tertiary      no      221     yes   no   \n",
       "9   43       services  married    primary      no      -88     yes  yes   \n",
       "\n",
       "    contact  day month  duration  campaign  pdays  previous poutcome   y  \n",
       "0  cellular   19   oct        79         1     -1         0  unknown  no  \n",
       "1  cellular   11   may       220         1    339         4  failure  no  \n",
       "2  cellular   16   apr       185         1    330         1  failure  no  \n",
       "3   unknown    3   jun       199         4     -1         0  unknown  no  \n",
       "4   unknown    5   may       226         1     -1         0  unknown  no  \n",
       "5  cellular   23   feb       141         2    176         3  failure  no  \n",
       "6  cellular   14   may       341         1    330         2    other  no  \n",
       "7  cellular    6   may       151         2     -1         0  unknown  no  \n",
       "8   unknown   14   may        57         2     -1         0  unknown  no  \n",
       "9  cellular   17   apr       313         1    147         2  failure  no  "
      ]
     },
     "execution_count": 3,
     "metadata": {},
     "output_type": "execute_result"
    }
   ],
   "source": [
    "#사용할 라이브러리 불러오기 \n",
    "import numpy as np\n",
    "import pandas as pd\n",
    "import matplotlib.pyplot as plt\n",
    "import seaborn as sns\n",
    "from sklearn.ensemble import RandomForestClassifier\n",
    "from sklearn.tree import DecisionTreeClassifier\n",
    "from sklearn.metrics import roc_curve\n",
    "%matplotlib inline\n",
    "\n",
    "#데이터 파일 읽어오기, 구분자 ;\n",
    "bank_df = pd.read_csv('/content/gdrive/MyDrive/Colab Notebooks/bank.csv', delimiter=';')\n",
    "\n",
    "#10개 데이터 출력\n",
    "bank_df.head(10)"
   ]
  },
  {
   "cell_type": "code",
   "execution_count": 4,
   "metadata": {
    "colab": {
     "base_uri": "https://localhost:8080/"
    },
    "executionInfo": {
     "elapsed": 325,
     "status": "ok",
     "timestamp": 1669428559218,
     "user": {
      "displayName": "최민영",
      "userId": "03119700151434472823"
     },
     "user_tz": -540
    },
    "id": "l8yfIGFxXU3T",
    "outputId": "36895c2a-574f-4f76-9a1a-e1d6992ffab5"
   },
   "outputs": [
    {
     "name": "stdout",
     "output_type": "stream",
     "text": [
      "<class 'pandas.core.frame.DataFrame'>\n",
      "RangeIndex: 4521 entries, 0 to 4520\n",
      "Data columns (total 17 columns):\n",
      " #   Column     Non-Null Count  Dtype \n",
      "---  ------     --------------  ----- \n",
      " 0   age        4521 non-null   int64 \n",
      " 1   job        4521 non-null   object\n",
      " 2   marital    4521 non-null   object\n",
      " 3   education  4521 non-null   object\n",
      " 4   default    4521 non-null   object\n",
      " 5   balance    4521 non-null   int64 \n",
      " 6   housing    4521 non-null   object\n",
      " 7   loan       4521 non-null   object\n",
      " 8   contact    4521 non-null   object\n",
      " 9   day        4521 non-null   int64 \n",
      " 10  month      4521 non-null   object\n",
      " 11  duration   4521 non-null   int64 \n",
      " 12  campaign   4521 non-null   int64 \n",
      " 13  pdays      4521 non-null   int64 \n",
      " 14  previous   4521 non-null   int64 \n",
      " 15  poutcome   4521 non-null   object\n",
      " 16  y          4521 non-null   object\n",
      "dtypes: int64(7), object(10)\n",
      "memory usage: 600.6+ KB\n",
      "None\n"
     ]
    }
   ],
   "source": [
    "#데이터 정보를 확인 한다(누락값 여부, type)\n",
    "print(bank_df.info())\n"
   ]
  },
  {
   "cell_type": "markdown",
   "metadata": {
    "id": "3TZh4CNVuT3i"
   },
   "source": [
    "###-> 누락값이 없음을 확인하였다."
   ]
  },
  {
   "cell_type": "markdown",
   "metadata": {
    "id": "S-tYVX8TUEv-"
   },
   "source": [
    "## **은행 마케팅 캠페인 데이터**\n",
    "###입력변수(은행 고객 데이터)\n",
    "1 - age: 나이 (numeric)\n",
    "\n",
    "2 - job : 직업 (categorical: 'admin', 'blue-collar', 'entrepreneur', 'housemaid', 'management', 'retired', 'self-employed', 'services', 'student', 'technician', 'unemployed', 'unknown')\n",
    "\n",
    "3 - marital : 결혼 여부 (categorical: 'divorced','married','single','unknown'; note: 'divorced' means divorced or widowed)\n",
    "\n",
    "4 - education (categorical: 'basic.4y','basic.6y','basic.9y','high.school','illiterate','professional.course','university.degree','unknown')\n",
    "\n",
    "5 - default: 채무불이행여부 (categorical: 'no','yes','unknown')\n",
    "\n",
    "6- balance: 연간 평균 잔고[EUR] (numeric)\n",
    "\n",
    "7 - housing: 주택융자 유무 (catgorical: 'no','yes','unknown')\n",
    "\n",
    "8 - loan: 개인융자 유무 (categorical: 'no','yes','unknown')\n",
    "\n",
    "####<현재 캠페인의 마지막 컨택 관련>\n",
    "9 - contact: 의사소통 수단 (categorical: 'cellular','telephone')\n",
    "\n",
    "10 - day: 마지막 접촉일의 일\n",
    "\n",
    "11 - month: 마지막 접촉일의 월 (categorical: 'jan', 'feb', 'mar', ..., 'nov', 'dec')\n",
    "\n",
    "12 - duration: 마지막 접촉 기간, 초단위 (numeric)\n",
    "\n",
    "*실제 예측 모델을 사용하는 경우에는 버려야 한다. 벤치마크 목적으로만 포함시켜야 한다.\n",
    "\n",
    "#### <다른 속성>\n",
    "13 - campaign: 캠페인 동안 해당 고객 컨택 횟수 (numeric, includes last contact)\n",
    "\n",
    "14 - pdays: 이전 캠페인에서 고객에게 마지막으로 연락한 후 경과한 일 수 (numeric; 999: 이전 캠페인에서 해당고객에게 연락하지 않음)\n",
    "\n",
    "15 - previous: 이 캠페인 전 해당 고객에게 컨택한 횟수 (numeric)\n",
    "\n",
    "16 - poutcome: 이전 캠페인의 결과 (categorical: 'failure','nonexistent','success')\n",
    "\n",
    "\n",
    "\n",
    "###출력 변수\n",
    "1. y: 정기예금 가입 여부\n",
    "\n"
   ]
  },
  {
   "cell_type": "markdown",
   "metadata": {
    "id": "hDukMDXQ05F8"
   },
   "source": [
    "##2. 데이터 파악"
   ]
  },
  {
   "cell_type": "markdown",
   "metadata": {
    "id": "up1lAtbojZ75"
   },
   "source": [
    "###2-1. 기술통계량 확인"
   ]
  },
  {
   "cell_type": "code",
   "execution_count": 5,
   "metadata": {
    "colab": {
     "base_uri": "https://localhost:8080/"
    },
    "executionInfo": {
     "elapsed": 292,
     "status": "ok",
     "timestamp": 1669428743884,
     "user": {
      "displayName": "최민영",
      "userId": "03119700151434472823"
     },
     "user_tz": -540
    },
    "id": "GwvcgVLUtfMe",
    "outputId": "d954d3ba-02b7-4168-b590-ceb85147b4be"
   },
   "outputs": [
    {
     "data": {
      "text/plain": [
       "no     4000\n",
       "yes     521\n",
       "Name: y, dtype: int64"
      ]
     },
     "execution_count": 5,
     "metadata": {},
     "output_type": "execute_result"
    }
   ],
   "source": [
    "bank_df.y.value_counts()"
   ]
  },
  {
   "cell_type": "markdown",
   "metadata": {
    "id": "yINZNGWH1OpQ"
   },
   "source": [
    "-> 마케팅결과 데이터(y)에 불균형이 있음을 확인할 수 있다."
   ]
  },
  {
   "cell_type": "markdown",
   "metadata": {
    "id": "emhd_kNP3Xiq"
   },
   "source": [
    "####각 변수의 통계량을 확인한다."
   ]
  },
  {
   "cell_type": "code",
   "execution_count": 6,
   "metadata": {
    "colab": {
     "base_uri": "https://localhost:8080/",
     "height": 458
    },
    "executionInfo": {
     "elapsed": 331,
     "status": "ok",
     "timestamp": 1669428745984,
     "user": {
      "displayName": "최민영",
      "userId": "03119700151434472823"
     },
     "user_tz": -540
    },
    "id": "_4c_dqqQ3X2z",
    "outputId": "db1d821e-2227-4f37-b0d3-0faa69f894a0"
   },
   "outputs": [
    {
     "data": {
      "text/html": [
       "\n",
       "  <div id=\"df-613a5d36-4ed3-4ed7-8663-2739ffeaab9e\">\n",
       "    <div class=\"colab-df-container\">\n",
       "      <div>\n",
       "<style scoped>\n",
       "    .dataframe tbody tr th:only-of-type {\n",
       "        vertical-align: middle;\n",
       "    }\n",
       "\n",
       "    .dataframe tbody tr th {\n",
       "        vertical-align: top;\n",
       "    }\n",
       "\n",
       "    .dataframe thead th {\n",
       "        text-align: right;\n",
       "    }\n",
       "</style>\n",
       "<table border=\"1\" class=\"dataframe\">\n",
       "  <thead>\n",
       "    <tr style=\"text-align: right;\">\n",
       "      <th></th>\n",
       "      <th>age</th>\n",
       "      <th>job</th>\n",
       "      <th>marital</th>\n",
       "      <th>education</th>\n",
       "      <th>default</th>\n",
       "      <th>balance</th>\n",
       "      <th>housing</th>\n",
       "      <th>loan</th>\n",
       "      <th>contact</th>\n",
       "      <th>day</th>\n",
       "      <th>month</th>\n",
       "      <th>duration</th>\n",
       "      <th>campaign</th>\n",
       "      <th>pdays</th>\n",
       "      <th>previous</th>\n",
       "      <th>poutcome</th>\n",
       "      <th>y</th>\n",
       "    </tr>\n",
       "  </thead>\n",
       "  <tbody>\n",
       "    <tr>\n",
       "      <th>count</th>\n",
       "      <td>4521.000000</td>\n",
       "      <td>4521</td>\n",
       "      <td>4521</td>\n",
       "      <td>4521</td>\n",
       "      <td>4521</td>\n",
       "      <td>4521.000000</td>\n",
       "      <td>4521</td>\n",
       "      <td>4521</td>\n",
       "      <td>4521</td>\n",
       "      <td>4521.000000</td>\n",
       "      <td>4521</td>\n",
       "      <td>4521.000000</td>\n",
       "      <td>4521.000000</td>\n",
       "      <td>4521.000000</td>\n",
       "      <td>4521.000000</td>\n",
       "      <td>4521</td>\n",
       "      <td>4521</td>\n",
       "    </tr>\n",
       "    <tr>\n",
       "      <th>unique</th>\n",
       "      <td>NaN</td>\n",
       "      <td>12</td>\n",
       "      <td>3</td>\n",
       "      <td>4</td>\n",
       "      <td>2</td>\n",
       "      <td>NaN</td>\n",
       "      <td>2</td>\n",
       "      <td>2</td>\n",
       "      <td>3</td>\n",
       "      <td>NaN</td>\n",
       "      <td>12</td>\n",
       "      <td>NaN</td>\n",
       "      <td>NaN</td>\n",
       "      <td>NaN</td>\n",
       "      <td>NaN</td>\n",
       "      <td>4</td>\n",
       "      <td>2</td>\n",
       "    </tr>\n",
       "    <tr>\n",
       "      <th>top</th>\n",
       "      <td>NaN</td>\n",
       "      <td>management</td>\n",
       "      <td>married</td>\n",
       "      <td>secondary</td>\n",
       "      <td>no</td>\n",
       "      <td>NaN</td>\n",
       "      <td>yes</td>\n",
       "      <td>no</td>\n",
       "      <td>cellular</td>\n",
       "      <td>NaN</td>\n",
       "      <td>may</td>\n",
       "      <td>NaN</td>\n",
       "      <td>NaN</td>\n",
       "      <td>NaN</td>\n",
       "      <td>NaN</td>\n",
       "      <td>unknown</td>\n",
       "      <td>no</td>\n",
       "    </tr>\n",
       "    <tr>\n",
       "      <th>freq</th>\n",
       "      <td>NaN</td>\n",
       "      <td>969</td>\n",
       "      <td>2797</td>\n",
       "      <td>2306</td>\n",
       "      <td>4445</td>\n",
       "      <td>NaN</td>\n",
       "      <td>2559</td>\n",
       "      <td>3830</td>\n",
       "      <td>2896</td>\n",
       "      <td>NaN</td>\n",
       "      <td>1398</td>\n",
       "      <td>NaN</td>\n",
       "      <td>NaN</td>\n",
       "      <td>NaN</td>\n",
       "      <td>NaN</td>\n",
       "      <td>3705</td>\n",
       "      <td>4000</td>\n",
       "    </tr>\n",
       "    <tr>\n",
       "      <th>mean</th>\n",
       "      <td>41.170095</td>\n",
       "      <td>NaN</td>\n",
       "      <td>NaN</td>\n",
       "      <td>NaN</td>\n",
       "      <td>NaN</td>\n",
       "      <td>1422.657819</td>\n",
       "      <td>NaN</td>\n",
       "      <td>NaN</td>\n",
       "      <td>NaN</td>\n",
       "      <td>15.915284</td>\n",
       "      <td>NaN</td>\n",
       "      <td>263.961292</td>\n",
       "      <td>2.793630</td>\n",
       "      <td>39.766645</td>\n",
       "      <td>0.542579</td>\n",
       "      <td>NaN</td>\n",
       "      <td>NaN</td>\n",
       "    </tr>\n",
       "    <tr>\n",
       "      <th>std</th>\n",
       "      <td>10.576211</td>\n",
       "      <td>NaN</td>\n",
       "      <td>NaN</td>\n",
       "      <td>NaN</td>\n",
       "      <td>NaN</td>\n",
       "      <td>3009.638142</td>\n",
       "      <td>NaN</td>\n",
       "      <td>NaN</td>\n",
       "      <td>NaN</td>\n",
       "      <td>8.247667</td>\n",
       "      <td>NaN</td>\n",
       "      <td>259.856633</td>\n",
       "      <td>3.109807</td>\n",
       "      <td>100.121124</td>\n",
       "      <td>1.693562</td>\n",
       "      <td>NaN</td>\n",
       "      <td>NaN</td>\n",
       "    </tr>\n",
       "    <tr>\n",
       "      <th>min</th>\n",
       "      <td>19.000000</td>\n",
       "      <td>NaN</td>\n",
       "      <td>NaN</td>\n",
       "      <td>NaN</td>\n",
       "      <td>NaN</td>\n",
       "      <td>-3313.000000</td>\n",
       "      <td>NaN</td>\n",
       "      <td>NaN</td>\n",
       "      <td>NaN</td>\n",
       "      <td>1.000000</td>\n",
       "      <td>NaN</td>\n",
       "      <td>4.000000</td>\n",
       "      <td>1.000000</td>\n",
       "      <td>-1.000000</td>\n",
       "      <td>0.000000</td>\n",
       "      <td>NaN</td>\n",
       "      <td>NaN</td>\n",
       "    </tr>\n",
       "    <tr>\n",
       "      <th>25%</th>\n",
       "      <td>33.000000</td>\n",
       "      <td>NaN</td>\n",
       "      <td>NaN</td>\n",
       "      <td>NaN</td>\n",
       "      <td>NaN</td>\n",
       "      <td>69.000000</td>\n",
       "      <td>NaN</td>\n",
       "      <td>NaN</td>\n",
       "      <td>NaN</td>\n",
       "      <td>9.000000</td>\n",
       "      <td>NaN</td>\n",
       "      <td>104.000000</td>\n",
       "      <td>1.000000</td>\n",
       "      <td>-1.000000</td>\n",
       "      <td>0.000000</td>\n",
       "      <td>NaN</td>\n",
       "      <td>NaN</td>\n",
       "    </tr>\n",
       "    <tr>\n",
       "      <th>50%</th>\n",
       "      <td>39.000000</td>\n",
       "      <td>NaN</td>\n",
       "      <td>NaN</td>\n",
       "      <td>NaN</td>\n",
       "      <td>NaN</td>\n",
       "      <td>444.000000</td>\n",
       "      <td>NaN</td>\n",
       "      <td>NaN</td>\n",
       "      <td>NaN</td>\n",
       "      <td>16.000000</td>\n",
       "      <td>NaN</td>\n",
       "      <td>185.000000</td>\n",
       "      <td>2.000000</td>\n",
       "      <td>-1.000000</td>\n",
       "      <td>0.000000</td>\n",
       "      <td>NaN</td>\n",
       "      <td>NaN</td>\n",
       "    </tr>\n",
       "    <tr>\n",
       "      <th>75%</th>\n",
       "      <td>49.000000</td>\n",
       "      <td>NaN</td>\n",
       "      <td>NaN</td>\n",
       "      <td>NaN</td>\n",
       "      <td>NaN</td>\n",
       "      <td>1480.000000</td>\n",
       "      <td>NaN</td>\n",
       "      <td>NaN</td>\n",
       "      <td>NaN</td>\n",
       "      <td>21.000000</td>\n",
       "      <td>NaN</td>\n",
       "      <td>329.000000</td>\n",
       "      <td>3.000000</td>\n",
       "      <td>-1.000000</td>\n",
       "      <td>0.000000</td>\n",
       "      <td>NaN</td>\n",
       "      <td>NaN</td>\n",
       "    </tr>\n",
       "    <tr>\n",
       "      <th>max</th>\n",
       "      <td>87.000000</td>\n",
       "      <td>NaN</td>\n",
       "      <td>NaN</td>\n",
       "      <td>NaN</td>\n",
       "      <td>NaN</td>\n",
       "      <td>71188.000000</td>\n",
       "      <td>NaN</td>\n",
       "      <td>NaN</td>\n",
       "      <td>NaN</td>\n",
       "      <td>31.000000</td>\n",
       "      <td>NaN</td>\n",
       "      <td>3025.000000</td>\n",
       "      <td>50.000000</td>\n",
       "      <td>871.000000</td>\n",
       "      <td>25.000000</td>\n",
       "      <td>NaN</td>\n",
       "      <td>NaN</td>\n",
       "    </tr>\n",
       "  </tbody>\n",
       "</table>\n",
       "</div>\n",
       "      <button class=\"colab-df-convert\" onclick=\"convertToInteractive('df-613a5d36-4ed3-4ed7-8663-2739ffeaab9e')\"\n",
       "              title=\"Convert this dataframe to an interactive table.\"\n",
       "              style=\"display:none;\">\n",
       "        \n",
       "  <svg xmlns=\"http://www.w3.org/2000/svg\" height=\"24px\"viewBox=\"0 0 24 24\"\n",
       "       width=\"24px\">\n",
       "    <path d=\"M0 0h24v24H0V0z\" fill=\"none\"/>\n",
       "    <path d=\"M18.56 5.44l.94 2.06.94-2.06 2.06-.94-2.06-.94-.94-2.06-.94 2.06-2.06.94zm-11 1L8.5 8.5l.94-2.06 2.06-.94-2.06-.94L8.5 2.5l-.94 2.06-2.06.94zm10 10l.94 2.06.94-2.06 2.06-.94-2.06-.94-.94-2.06-.94 2.06-2.06.94z\"/><path d=\"M17.41 7.96l-1.37-1.37c-.4-.4-.92-.59-1.43-.59-.52 0-1.04.2-1.43.59L10.3 9.45l-7.72 7.72c-.78.78-.78 2.05 0 2.83L4 21.41c.39.39.9.59 1.41.59.51 0 1.02-.2 1.41-.59l7.78-7.78 2.81-2.81c.8-.78.8-2.07 0-2.86zM5.41 20L4 18.59l7.72-7.72 1.47 1.35L5.41 20z\"/>\n",
       "  </svg>\n",
       "      </button>\n",
       "      \n",
       "  <style>\n",
       "    .colab-df-container {\n",
       "      display:flex;\n",
       "      flex-wrap:wrap;\n",
       "      gap: 12px;\n",
       "    }\n",
       "\n",
       "    .colab-df-convert {\n",
       "      background-color: #E8F0FE;\n",
       "      border: none;\n",
       "      border-radius: 50%;\n",
       "      cursor: pointer;\n",
       "      display: none;\n",
       "      fill: #1967D2;\n",
       "      height: 32px;\n",
       "      padding: 0 0 0 0;\n",
       "      width: 32px;\n",
       "    }\n",
       "\n",
       "    .colab-df-convert:hover {\n",
       "      background-color: #E2EBFA;\n",
       "      box-shadow: 0px 1px 2px rgba(60, 64, 67, 0.3), 0px 1px 3px 1px rgba(60, 64, 67, 0.15);\n",
       "      fill: #174EA6;\n",
       "    }\n",
       "\n",
       "    [theme=dark] .colab-df-convert {\n",
       "      background-color: #3B4455;\n",
       "      fill: #D2E3FC;\n",
       "    }\n",
       "\n",
       "    [theme=dark] .colab-df-convert:hover {\n",
       "      background-color: #434B5C;\n",
       "      box-shadow: 0px 1px 3px 1px rgba(0, 0, 0, 0.15);\n",
       "      filter: drop-shadow(0px 1px 2px rgba(0, 0, 0, 0.3));\n",
       "      fill: #FFFFFF;\n",
       "    }\n",
       "  </style>\n",
       "\n",
       "      <script>\n",
       "        const buttonEl =\n",
       "          document.querySelector('#df-613a5d36-4ed3-4ed7-8663-2739ffeaab9e button.colab-df-convert');\n",
       "        buttonEl.style.display =\n",
       "          google.colab.kernel.accessAllowed ? 'block' : 'none';\n",
       "\n",
       "        async function convertToInteractive(key) {\n",
       "          const element = document.querySelector('#df-613a5d36-4ed3-4ed7-8663-2739ffeaab9e');\n",
       "          const dataTable =\n",
       "            await google.colab.kernel.invokeFunction('convertToInteractive',\n",
       "                                                     [key], {});\n",
       "          if (!dataTable) return;\n",
       "\n",
       "          const docLinkHtml = 'Like what you see? Visit the ' +\n",
       "            '<a target=\"_blank\" href=https://colab.research.google.com/notebooks/data_table.ipynb>data table notebook</a>'\n",
       "            + ' to learn more about interactive tables.';\n",
       "          element.innerHTML = '';\n",
       "          dataTable['output_type'] = 'display_data';\n",
       "          await google.colab.output.renderOutput(dataTable, element);\n",
       "          const docLink = document.createElement('div');\n",
       "          docLink.innerHTML = docLinkHtml;\n",
       "          element.appendChild(docLink);\n",
       "        }\n",
       "      </script>\n",
       "    </div>\n",
       "  </div>\n",
       "  "
      ],
      "text/plain": [
       "                age         job  marital  education default       balance  \\\n",
       "count   4521.000000        4521     4521       4521    4521   4521.000000   \n",
       "unique          NaN          12        3          4       2           NaN   \n",
       "top             NaN  management  married  secondary      no           NaN   \n",
       "freq            NaN         969     2797       2306    4445           NaN   \n",
       "mean      41.170095         NaN      NaN        NaN     NaN   1422.657819   \n",
       "std       10.576211         NaN      NaN        NaN     NaN   3009.638142   \n",
       "min       19.000000         NaN      NaN        NaN     NaN  -3313.000000   \n",
       "25%       33.000000         NaN      NaN        NaN     NaN     69.000000   \n",
       "50%       39.000000         NaN      NaN        NaN     NaN    444.000000   \n",
       "75%       49.000000         NaN      NaN        NaN     NaN   1480.000000   \n",
       "max       87.000000         NaN      NaN        NaN     NaN  71188.000000   \n",
       "\n",
       "       housing  loan   contact          day month     duration     campaign  \\\n",
       "count     4521  4521      4521  4521.000000  4521  4521.000000  4521.000000   \n",
       "unique       2     2         3          NaN    12          NaN          NaN   \n",
       "top        yes    no  cellular          NaN   may          NaN          NaN   \n",
       "freq      2559  3830      2896          NaN  1398          NaN          NaN   \n",
       "mean       NaN   NaN       NaN    15.915284   NaN   263.961292     2.793630   \n",
       "std        NaN   NaN       NaN     8.247667   NaN   259.856633     3.109807   \n",
       "min        NaN   NaN       NaN     1.000000   NaN     4.000000     1.000000   \n",
       "25%        NaN   NaN       NaN     9.000000   NaN   104.000000     1.000000   \n",
       "50%        NaN   NaN       NaN    16.000000   NaN   185.000000     2.000000   \n",
       "75%        NaN   NaN       NaN    21.000000   NaN   329.000000     3.000000   \n",
       "max        NaN   NaN       NaN    31.000000   NaN  3025.000000    50.000000   \n",
       "\n",
       "              pdays     previous poutcome     y  \n",
       "count   4521.000000  4521.000000     4521  4521  \n",
       "unique          NaN          NaN        4     2  \n",
       "top             NaN          NaN  unknown    no  \n",
       "freq            NaN          NaN     3705  4000  \n",
       "mean      39.766645     0.542579      NaN   NaN  \n",
       "std      100.121124     1.693562      NaN   NaN  \n",
       "min       -1.000000     0.000000      NaN   NaN  \n",
       "25%       -1.000000     0.000000      NaN   NaN  \n",
       "50%       -1.000000     0.000000      NaN   NaN  \n",
       "75%       -1.000000     0.000000      NaN   NaN  \n",
       "max      871.000000    25.000000      NaN   NaN  "
      ]
     },
     "execution_count": 6,
     "metadata": {},
     "output_type": "execute_result"
    }
   ],
   "source": [
    "bank_df.describe(include='all')"
   ]
  },
  {
   "cell_type": "markdown",
   "metadata": {
    "id": "ha8KHNHMsKkB"
   },
   "source": [
    "###2-2. 데이터 시각화"
   ]
  },
  {
   "cell_type": "markdown",
   "metadata": {
    "id": "wEx1OI3itjOh"
   },
   "source": [
    "- 마케팅 결과\n",
    "- 채무불이행 유무\n",
    "- 주택융자 유무\n",
    "- 개인융자 유무\n",
    "- 직업별 마케팅 결과\n",
    "- 결혼 상태별 마케팅 결과\n",
    "- 학력별 마케팅 결과\n"
   ]
  },
  {
   "cell_type": "code",
   "execution_count": 7,
   "metadata": {
    "colab": {
     "base_uri": "https://localhost:8080/",
     "height": 639
    },
    "executionInfo": {
     "elapsed": 881,
     "status": "ok",
     "timestamp": 1669428750008,
     "user": {
      "displayName": "최민영",
      "userId": "03119700151434472823"
     },
     "user_tz": -540
    },
    "id": "OfaWyDiVjcDJ",
    "outputId": "34e6582e-6aaf-4c29-8e95-34a7381b5293"
   },
   "outputs": [
    {
     "data": {
      "text/plain": [
       "<matplotlib.axes._subplots.AxesSubplot at 0x7f264d7fcfd0>"
      ]
     },
     "execution_count": 7,
     "metadata": {},
     "output_type": "execute_result"
    },
    {
     "data": {
      "image/png": "[encoded data removed]",
      "text/plain": [
       "<Figure size 720x720 with 4 Axes>"
      ]
     },
     "metadata": {
      "needs_background": "light"
     },
     "output_type": "display_data"
    }
   ],
   "source": [
    "\n",
    "#4개의 그래프를 한 화면에 나타낸다.\n",
    "#그래프 크기 설정\n",
    "\n",
    "plt.figure(figsize=(10,10))\n",
    "\n",
    "#마케팅 결과\n",
    "plt.subplot(2,2,1)\n",
    "plt.title('Marketing result')\n",
    "sns.countplot(x='y', data=bank_df)\n",
    "\n",
    "#채무불이행 유무\n",
    "plt.subplot(2,2,2)\n",
    "plt.title('Default')\n",
    "sns.countplot(x='default', data=bank_df)\n",
    "\n",
    "#주택융자 유무\n",
    "plt.subplot(2,2,3)\n",
    "plt.title('Housing loan')\n",
    "sns.countplot(x='housing', data=bank_df)\n",
    "\n",
    "#개인융자 유무\n",
    "plt.subplot(2,2,4)\n",
    "plt.title('Personal loan')\n",
    "sns.countplot(x='loan', data=bank_df)"
   ]
  },
  {
   "cell_type": "code",
   "execution_count": 8,
   "metadata": {
    "colab": {
     "base_uri": "https://localhost:8080/",
     "height": 482
    },
    "executionInfo": {
     "elapsed": 867,
     "status": "ok",
     "timestamp": 1669428754067,
     "user": {
      "displayName": "최민영",
      "userId": "03119700151434472823"
     },
     "user_tz": -540
    },
    "id": "q_hIFsrascQV",
    "outputId": "90386600-51c9-465f-e11a-07614af1dbd8"
   },
   "outputs": [
    {
     "data": {
      "text/plain": [
       "Text(0.5, 1.0, 'Marketing result according to job')"
      ]
     },
     "execution_count": 8,
     "metadata": {},
     "output_type": "execute_result"
    },
    {
     "data": {
      "image/png": "[encoded data removed]",
      "text/plain": [
       "<Figure size 1440x504 with 1 Axes>"
      ]
     },
     "metadata": {},
     "output_type": "display_data"
    }
   ],
   "source": [
    "#직업별 마케팅 결과를 확인한다.\n",
    "\n",
    "sns.set(rc={'figure.figsize':(20,7)})\n",
    "sns.countplot(x=bank_df['job'], data=bank_df, hue=bank_df['y'])\n",
    "plt.title('Marketing result according to job')\n"
   ]
  },
  {
   "cell_type": "code",
   "execution_count": 9,
   "metadata": {
    "colab": {
     "base_uri": "https://localhost:8080/",
     "height": 482
    },
    "executionInfo": {
     "elapsed": 342,
     "status": "ok",
     "timestamp": 1669428759819,
     "user": {
      "displayName": "최민영",
      "userId": "03119700151434472823"
     },
     "user_tz": -540
    },
    "id": "3Ojj0cV4s4TV",
    "outputId": "98c05851-831b-4790-be99-8032ff3ceed4"
   },
   "outputs": [
    {
     "data": {
      "text/plain": [
       "Text(0.5, 1.0, 'Marketing result according to martial')"
      ]
     },
     "execution_count": 9,
     "metadata": {},
     "output_type": "execute_result"
    },
    {
     "data": {
      "image/png": "[encoded data removed]",
      "text/plain": [
       "<Figure size 720x504 with 1 Axes>"
      ]
     },
     "metadata": {},
     "output_type": "display_data"
    }
   ],
   "source": [
    "#결혼 상태 별 마케팅 결과를 확인한다.\n",
    "\n",
    "sns.set(rc={'figure.figsize':(10,7)})\n",
    "sns.countplot(x=bank_df['marital'], data=bank_df, hue=bank_df['y'])\n",
    "plt.title('Marketing result according to martial')\n",
    "\n"
   ]
  },
  {
   "cell_type": "code",
   "execution_count": 10,
   "metadata": {
    "colab": {
     "base_uri": "https://localhost:8080/",
     "height": 482
    },
    "executionInfo": {
     "elapsed": 863,
     "status": "ok",
     "timestamp": 1669428769339,
     "user": {
      "displayName": "최민영",
      "userId": "03119700151434472823"
     },
     "user_tz": -540
    },
    "id": "alCfj1JZtNzZ",
    "outputId": "cd6bd719-4f6b-4fd7-e536-baa3a9111714"
   },
   "outputs": [
    {
     "data": {
      "text/plain": [
       "Text(0.5, 1.0, 'Marketing result according to education')"
      ]
     },
     "execution_count": 10,
     "metadata": {},
     "output_type": "execute_result"
    },
    {
     "data": {
      "image/png": "[encoded data removed]",
      "text/plain": [
       "<Figure size 720x504 with 1 Axes>"
      ]
     },
     "metadata": {},
     "output_type": "display_data"
    }
   ],
   "source": [
    "#학력별 마케팅 결과를 확인한다.\n",
    "\n",
    "sns.set(rc={'figure.figsize':(10,7)})\n",
    "sns.countplot(x=bank_df['education'], data=bank_df, hue=bank_df['y'])\n",
    "plt.title('Marketing result according to education')\n"
   ]
  },
  {
   "cell_type": "markdown",
   "metadata": {
    "id": "cmdFYxs0UmOV"
   },
   "source": [
    "##3. 데이터 전처리"
   ]
  },
  {
   "cell_type": "markdown",
   "metadata": {
    "id": "8QkcAe38IEkw"
   },
   "source": [
    "###데이터 정규화"
   ]
  },
  {
   "cell_type": "code",
   "execution_count": 11,
   "metadata": {
    "executionInfo": {
     "elapsed": 3,
     "status": "ok",
     "timestamp": 1669428832148,
     "user": {
      "displayName": "최민영",
      "userId": "03119700151434472823"
     },
     "user_tz": -540
    },
    "id": "fYjBS4n7I7vu"
   },
   "outputs": [],
   "source": [
    "#데이터 정규화 \n",
    "from sklearn.preprocessing import StandardScaler\n",
    "\n",
    "#데이터 중 숫자 데이터 열번호\n",
    "idx_numeric=[0,5,9,11,12,13,14]\n",
    "\n",
    "# StandardScaler객체 생성\n",
    "scaler = StandardScaler()\n",
    "#데이터 중 숫자 데이터에 대해 정규화를 시킨다.\n",
    "bank_df[bank_df.columns[idx_numeric]] = scaler.fit_transform(bank_df[bank_df.columns[idx_numeric]])\n"
   ]
  },
  {
   "cell_type": "code",
   "execution_count": 12,
   "metadata": {
    "colab": {
     "base_uri": "https://localhost:8080/",
     "height": 206
    },
    "executionInfo": {
     "elapsed": 305,
     "status": "ok",
     "timestamp": 1669428839921,
     "user": {
      "displayName": "최민영",
      "userId": "03119700151434472823"
     },
     "user_tz": -540
    },
    "id": "MbKXElqSI-6E",
    "outputId": "46e288dd-3f99-4933-a9d9-7aae978cab94"
   },
   "outputs": [
    {
     "data": {
      "text/html": [
       "\n",
       "  <div id=\"df-52334035-27f6-4203-a73d-e82ae45990ee\">\n",
       "    <div class=\"colab-df-container\">\n",
       "      <div>\n",
       "<style scoped>\n",
       "    .dataframe tbody tr th:only-of-type {\n",
       "        vertical-align: middle;\n",
       "    }\n",
       "\n",
       "    .dataframe tbody tr th {\n",
       "        vertical-align: top;\n",
       "    }\n",
       "\n",
       "    .dataframe thead th {\n",
       "        text-align: right;\n",
       "    }\n",
       "</style>\n",
       "<table border=\"1\" class=\"dataframe\">\n",
       "  <thead>\n",
       "    <tr style=\"text-align: right;\">\n",
       "      <th></th>\n",
       "      <th>age</th>\n",
       "      <th>job</th>\n",
       "      <th>marital</th>\n",
       "      <th>education</th>\n",
       "      <th>default</th>\n",
       "      <th>balance</th>\n",
       "      <th>housing</th>\n",
       "      <th>loan</th>\n",
       "      <th>contact</th>\n",
       "      <th>day</th>\n",
       "      <th>month</th>\n",
       "      <th>duration</th>\n",
       "      <th>campaign</th>\n",
       "      <th>pdays</th>\n",
       "      <th>previous</th>\n",
       "      <th>poutcome</th>\n",
       "      <th>y</th>\n",
       "    </tr>\n",
       "  </thead>\n",
       "  <tbody>\n",
       "    <tr>\n",
       "      <th>0</th>\n",
       "      <td>-1.056270</td>\n",
       "      <td>unemployed</td>\n",
       "      <td>married</td>\n",
       "      <td>primary</td>\n",
       "      <td>no</td>\n",
       "      <td>0.121072</td>\n",
       "      <td>no</td>\n",
       "      <td>no</td>\n",
       "      <td>cellular</td>\n",
       "      <td>0.374052</td>\n",
       "      <td>oct</td>\n",
       "      <td>-0.711861</td>\n",
       "      <td>-0.576829</td>\n",
       "      <td>-0.407218</td>\n",
       "      <td>-0.320413</td>\n",
       "      <td>unknown</td>\n",
       "      <td>no</td>\n",
       "    </tr>\n",
       "    <tr>\n",
       "      <th>1</th>\n",
       "      <td>-0.772583</td>\n",
       "      <td>services</td>\n",
       "      <td>married</td>\n",
       "      <td>secondary</td>\n",
       "      <td>no</td>\n",
       "      <td>1.118644</td>\n",
       "      <td>yes</td>\n",
       "      <td>yes</td>\n",
       "      <td>cellular</td>\n",
       "      <td>-0.596026</td>\n",
       "      <td>may</td>\n",
       "      <td>-0.169194</td>\n",
       "      <td>-0.576829</td>\n",
       "      <td>2.989044</td>\n",
       "      <td>2.041734</td>\n",
       "      <td>failure</td>\n",
       "      <td>no</td>\n",
       "    </tr>\n",
       "    <tr>\n",
       "      <th>2</th>\n",
       "      <td>-0.583458</td>\n",
       "      <td>management</td>\n",
       "      <td>single</td>\n",
       "      <td>tertiary</td>\n",
       "      <td>no</td>\n",
       "      <td>-0.024144</td>\n",
       "      <td>yes</td>\n",
       "      <td>no</td>\n",
       "      <td>cellular</td>\n",
       "      <td>0.010273</td>\n",
       "      <td>apr</td>\n",
       "      <td>-0.303898</td>\n",
       "      <td>-0.576829</td>\n",
       "      <td>2.899143</td>\n",
       "      <td>0.270124</td>\n",
       "      <td>failure</td>\n",
       "      <td>no</td>\n",
       "    </tr>\n",
       "    <tr>\n",
       "      <th>3</th>\n",
       "      <td>-1.056270</td>\n",
       "      <td>management</td>\n",
       "      <td>married</td>\n",
       "      <td>tertiary</td>\n",
       "      <td>no</td>\n",
       "      <td>0.017726</td>\n",
       "      <td>yes</td>\n",
       "      <td>yes</td>\n",
       "      <td>unknown</td>\n",
       "      <td>-1.566105</td>\n",
       "      <td>jun</td>\n",
       "      <td>-0.250017</td>\n",
       "      <td>0.387967</td>\n",
       "      <td>-0.407218</td>\n",
       "      <td>-0.320413</td>\n",
       "      <td>unknown</td>\n",
       "      <td>no</td>\n",
       "    </tr>\n",
       "    <tr>\n",
       "      <th>4</th>\n",
       "      <td>1.686036</td>\n",
       "      <td>blue-collar</td>\n",
       "      <td>married</td>\n",
       "      <td>secondary</td>\n",
       "      <td>no</td>\n",
       "      <td>-0.472753</td>\n",
       "      <td>yes</td>\n",
       "      <td>no</td>\n",
       "      <td>unknown</td>\n",
       "      <td>-1.323585</td>\n",
       "      <td>may</td>\n",
       "      <td>-0.146102</td>\n",
       "      <td>-0.576829</td>\n",
       "      <td>-0.407218</td>\n",
       "      <td>-0.320413</td>\n",
       "      <td>unknown</td>\n",
       "      <td>no</td>\n",
       "    </tr>\n",
       "  </tbody>\n",
       "</table>\n",
       "</div>\n",
       "      <button class=\"colab-df-convert\" onclick=\"convertToInteractive('df-52334035-27f6-4203-a73d-e82ae45990ee')\"\n",
       "              title=\"Convert this dataframe to an interactive table.\"\n",
       "              style=\"display:none;\">\n",
       "        \n",
       "  <svg xmlns=\"http://www.w3.org/2000/svg\" height=\"24px\"viewBox=\"0 0 24 24\"\n",
       "       width=\"24px\">\n",
       "    <path d=\"M0 0h24v24H0V0z\" fill=\"none\"/>\n",
       "    <path d=\"M18.56 5.44l.94 2.06.94-2.06 2.06-.94-2.06-.94-.94-2.06-.94 2.06-2.06.94zm-11 1L8.5 8.5l.94-2.06 2.06-.94-2.06-.94L8.5 2.5l-.94 2.06-2.06.94zm10 10l.94 2.06.94-2.06 2.06-.94-2.06-.94-.94-2.06-.94 2.06-2.06.94z\"/><path d=\"M17.41 7.96l-1.37-1.37c-.4-.4-.92-.59-1.43-.59-.52 0-1.04.2-1.43.59L10.3 9.45l-7.72 7.72c-.78.78-.78 2.05 0 2.83L4 21.41c.39.39.9.59 1.41.59.51 0 1.02-.2 1.41-.59l7.78-7.78 2.81-2.81c.8-.78.8-2.07 0-2.86zM5.41 20L4 18.59l7.72-7.72 1.47 1.35L5.41 20z\"/>\n",
       "  </svg>\n",
       "      </button>\n",
       "      \n",
       "  <style>\n",
       "    .colab-df-container {\n",
       "      display:flex;\n",
       "      flex-wrap:wrap;\n",
       "      gap: 12px;\n",
       "    }\n",
       "\n",
       "    .colab-df-convert {\n",
       "      background-color: #E8F0FE;\n",
       "      border: none;\n",
       "      border-radius: 50%;\n",
       "      cursor: pointer;\n",
       "      display: none;\n",
       "      fill: #1967D2;\n",
       "      height: 32px;\n",
       "      padding: 0 0 0 0;\n",
       "      width: 32px;\n",
       "    }\n",
       "\n",
       "    .colab-df-convert:hover {\n",
       "      background-color: #E2EBFA;\n",
       "      box-shadow: 0px 1px 2px rgba(60, 64, 67, 0.3), 0px 1px 3px 1px rgba(60, 64, 67, 0.15);\n",
       "      fill: #174EA6;\n",
       "    }\n",
       "\n",
       "    [theme=dark] .colab-df-convert {\n",
       "      background-color: #3B4455;\n",
       "      fill: #D2E3FC;\n",
       "    }\n",
       "\n",
       "    [theme=dark] .colab-df-convert:hover {\n",
       "      background-color: #434B5C;\n",
       "      box-shadow: 0px 1px 3px 1px rgba(0, 0, 0, 0.15);\n",
       "      filter: drop-shadow(0px 1px 2px rgba(0, 0, 0, 0.3));\n",
       "      fill: #FFFFFF;\n",
       "    }\n",
       "  </style>\n",
       "\n",
       "      <script>\n",
       "        const buttonEl =\n",
       "          document.querySelector('#df-52334035-27f6-4203-a73d-e82ae45990ee button.colab-df-convert');\n",
       "        buttonEl.style.display =\n",
       "          google.colab.kernel.accessAllowed ? 'block' : 'none';\n",
       "\n",
       "        async function convertToInteractive(key) {\n",
       "          const element = document.querySelector('#df-52334035-27f6-4203-a73d-e82ae45990ee');\n",
       "          const dataTable =\n",
       "            await google.colab.kernel.invokeFunction('convertToInteractive',\n",
       "                                                     [key], {});\n",
       "          if (!dataTable) return;\n",
       "\n",
       "          const docLinkHtml = 'Like what you see? Visit the ' +\n",
       "            '<a target=\"_blank\" href=https://colab.research.google.com/notebooks/data_table.ipynb>data table notebook</a>'\n",
       "            + ' to learn more about interactive tables.';\n",
       "          element.innerHTML = '';\n",
       "          dataTable['output_type'] = 'display_data';\n",
       "          await google.colab.output.renderOutput(dataTable, element);\n",
       "          const docLink = document.createElement('div');\n",
       "          docLink.innerHTML = docLinkHtml;\n",
       "          element.appendChild(docLink);\n",
       "        }\n",
       "      </script>\n",
       "    </div>\n",
       "  </div>\n",
       "  "
      ],
      "text/plain": [
       "        age          job  marital  education default   balance housing loan  \\\n",
       "0 -1.056270   unemployed  married    primary      no  0.121072      no   no   \n",
       "1 -0.772583     services  married  secondary      no  1.118644     yes  yes   \n",
       "2 -0.583458   management   single   tertiary      no -0.024144     yes   no   \n",
       "3 -1.056270   management  married   tertiary      no  0.017726     yes  yes   \n",
       "4  1.686036  blue-collar  married  secondary      no -0.472753     yes   no   \n",
       "\n",
       "    contact       day month  duration  campaign     pdays  previous poutcome  \\\n",
       "0  cellular  0.374052   oct -0.711861 -0.576829 -0.407218 -0.320413  unknown   \n",
       "1  cellular -0.596026   may -0.169194 -0.576829  2.989044  2.041734  failure   \n",
       "2  cellular  0.010273   apr -0.303898 -0.576829  2.899143  0.270124  failure   \n",
       "3   unknown -1.566105   jun -0.250017  0.387967 -0.407218 -0.320413  unknown   \n",
       "4   unknown -1.323585   may -0.146102 -0.576829 -0.407218 -0.320413  unknown   \n",
       "\n",
       "    y  \n",
       "0  no  \n",
       "1  no  \n",
       "2  no  \n",
       "3  no  \n",
       "4  no  "
      ]
     },
     "execution_count": 12,
     "metadata": {},
     "output_type": "execute_result"
    }
   ],
   "source": [
    "bank_df.head()"
   ]
  },
  {
   "cell_type": "markdown",
   "metadata": {
    "id": "JFBAkQxt4zUp"
   },
   "source": [
    "###라벨 인코딩 사용"
   ]
  },
  {
   "cell_type": "code",
   "execution_count": 13,
   "metadata": {
    "colab": {
     "base_uri": "https://localhost:8080/",
     "height": 206
    },
    "executionInfo": {
     "elapsed": 311,
     "status": "ok",
     "timestamp": 1669428858270,
     "user": {
      "displayName": "최민영",
      "userId": "03119700151434472823"
     },
     "user_tz": -540
    },
    "id": "4g5Pud5Fd313",
    "outputId": "a8b10b13-673b-43c2-bc68-aecb0d9e8997"
   },
   "outputs": [
    {
     "data": {
      "text/html": [
       "\n",
       "  <div id=\"df-7c691ac4-10e9-46c0-a2d6-22b62a73e9b4\">\n",
       "    <div class=\"colab-df-container\">\n",
       "      <div>\n",
       "<style scoped>\n",
       "    .dataframe tbody tr th:only-of-type {\n",
       "        vertical-align: middle;\n",
       "    }\n",
       "\n",
       "    .dataframe tbody tr th {\n",
       "        vertical-align: top;\n",
       "    }\n",
       "\n",
       "    .dataframe thead th {\n",
       "        text-align: right;\n",
       "    }\n",
       "</style>\n",
       "<table border=\"1\" class=\"dataframe\">\n",
       "  <thead>\n",
       "    <tr style=\"text-align: right;\">\n",
       "      <th></th>\n",
       "      <th>age</th>\n",
       "      <th>job</th>\n",
       "      <th>marital</th>\n",
       "      <th>education</th>\n",
       "      <th>default</th>\n",
       "      <th>balance</th>\n",
       "      <th>housing</th>\n",
       "      <th>loan</th>\n",
       "      <th>contact</th>\n",
       "      <th>day</th>\n",
       "      <th>month</th>\n",
       "      <th>duration</th>\n",
       "      <th>campaign</th>\n",
       "      <th>pdays</th>\n",
       "      <th>previous</th>\n",
       "      <th>poutcome</th>\n",
       "      <th>y</th>\n",
       "    </tr>\n",
       "  </thead>\n",
       "  <tbody>\n",
       "    <tr>\n",
       "      <th>0</th>\n",
       "      <td>-1.056270</td>\n",
       "      <td>10</td>\n",
       "      <td>1</td>\n",
       "      <td>0</td>\n",
       "      <td>0</td>\n",
       "      <td>0.121072</td>\n",
       "      <td>0</td>\n",
       "      <td>0</td>\n",
       "      <td>0</td>\n",
       "      <td>0.374052</td>\n",
       "      <td>10</td>\n",
       "      <td>-0.711861</td>\n",
       "      <td>-0.576829</td>\n",
       "      <td>-0.407218</td>\n",
       "      <td>-0.320413</td>\n",
       "      <td>3</td>\n",
       "      <td>0</td>\n",
       "    </tr>\n",
       "    <tr>\n",
       "      <th>1</th>\n",
       "      <td>-0.772583</td>\n",
       "      <td>7</td>\n",
       "      <td>1</td>\n",
       "      <td>1</td>\n",
       "      <td>0</td>\n",
       "      <td>1.118644</td>\n",
       "      <td>1</td>\n",
       "      <td>1</td>\n",
       "      <td>0</td>\n",
       "      <td>-0.596026</td>\n",
       "      <td>8</td>\n",
       "      <td>-0.169194</td>\n",
       "      <td>-0.576829</td>\n",
       "      <td>2.989044</td>\n",
       "      <td>2.041734</td>\n",
       "      <td>0</td>\n",
       "      <td>0</td>\n",
       "    </tr>\n",
       "    <tr>\n",
       "      <th>2</th>\n",
       "      <td>-0.583458</td>\n",
       "      <td>4</td>\n",
       "      <td>2</td>\n",
       "      <td>2</td>\n",
       "      <td>0</td>\n",
       "      <td>-0.024144</td>\n",
       "      <td>1</td>\n",
       "      <td>0</td>\n",
       "      <td>0</td>\n",
       "      <td>0.010273</td>\n",
       "      <td>0</td>\n",
       "      <td>-0.303898</td>\n",
       "      <td>-0.576829</td>\n",
       "      <td>2.899143</td>\n",
       "      <td>0.270124</td>\n",
       "      <td>0</td>\n",
       "      <td>0</td>\n",
       "    </tr>\n",
       "    <tr>\n",
       "      <th>3</th>\n",
       "      <td>-1.056270</td>\n",
       "      <td>4</td>\n",
       "      <td>1</td>\n",
       "      <td>2</td>\n",
       "      <td>0</td>\n",
       "      <td>0.017726</td>\n",
       "      <td>1</td>\n",
       "      <td>1</td>\n",
       "      <td>2</td>\n",
       "      <td>-1.566105</td>\n",
       "      <td>6</td>\n",
       "      <td>-0.250017</td>\n",
       "      <td>0.387967</td>\n",
       "      <td>-0.407218</td>\n",
       "      <td>-0.320413</td>\n",
       "      <td>3</td>\n",
       "      <td>0</td>\n",
       "    </tr>\n",
       "    <tr>\n",
       "      <th>4</th>\n",
       "      <td>1.686036</td>\n",
       "      <td>1</td>\n",
       "      <td>1</td>\n",
       "      <td>1</td>\n",
       "      <td>0</td>\n",
       "      <td>-0.472753</td>\n",
       "      <td>1</td>\n",
       "      <td>0</td>\n",
       "      <td>2</td>\n",
       "      <td>-1.323585</td>\n",
       "      <td>8</td>\n",
       "      <td>-0.146102</td>\n",
       "      <td>-0.576829</td>\n",
       "      <td>-0.407218</td>\n",
       "      <td>-0.320413</td>\n",
       "      <td>3</td>\n",
       "      <td>0</td>\n",
       "    </tr>\n",
       "  </tbody>\n",
       "</table>\n",
       "</div>\n",
       "      <button class=\"colab-df-convert\" onclick=\"convertToInteractive('df-7c691ac4-10e9-46c0-a2d6-22b62a73e9b4')\"\n",
       "              title=\"Convert this dataframe to an interactive table.\"\n",
       "              style=\"display:none;\">\n",
       "        \n",
       "  <svg xmlns=\"http://www.w3.org/2000/svg\" height=\"24px\"viewBox=\"0 0 24 24\"\n",
       "       width=\"24px\">\n",
       "    <path d=\"M0 0h24v24H0V0z\" fill=\"none\"/>\n",
       "    <path d=\"M18.56 5.44l.94 2.06.94-2.06 2.06-.94-2.06-.94-.94-2.06-.94 2.06-2.06.94zm-11 1L8.5 8.5l.94-2.06 2.06-.94-2.06-.94L8.5 2.5l-.94 2.06-2.06.94zm10 10l.94 2.06.94-2.06 2.06-.94-2.06-.94-.94-2.06-.94 2.06-2.06.94z\"/><path d=\"M17.41 7.96l-1.37-1.37c-.4-.4-.92-.59-1.43-.59-.52 0-1.04.2-1.43.59L10.3 9.45l-7.72 7.72c-.78.78-.78 2.05 0 2.83L4 21.41c.39.39.9.59 1.41.59.51 0 1.02-.2 1.41-.59l7.78-7.78 2.81-2.81c.8-.78.8-2.07 0-2.86zM5.41 20L4 18.59l7.72-7.72 1.47 1.35L5.41 20z\"/>\n",
       "  </svg>\n",
       "      </button>\n",
       "      \n",
       "  <style>\n",
       "    .colab-df-container {\n",
       "      display:flex;\n",
       "      flex-wrap:wrap;\n",
       "      gap: 12px;\n",
       "    }\n",
       "\n",
       "    .colab-df-convert {\n",
       "      background-color: #E8F0FE;\n",
       "      border: none;\n",
       "      border-radius: 50%;\n",
       "      cursor: pointer;\n",
       "      display: none;\n",
       "      fill: #1967D2;\n",
       "      height: 32px;\n",
       "      padding: 0 0 0 0;\n",
       "      width: 32px;\n",
       "    }\n",
       "\n",
       "    .colab-df-convert:hover {\n",
       "      background-color: #E2EBFA;\n",
       "      box-shadow: 0px 1px 2px rgba(60, 64, 67, 0.3), 0px 1px 3px 1px rgba(60, 64, 67, 0.15);\n",
       "      fill: #174EA6;\n",
       "    }\n",
       "\n",
       "    [theme=dark] .colab-df-convert {\n",
       "      background-color: #3B4455;\n",
       "      fill: #D2E3FC;\n",
       "    }\n",
       "\n",
       "    [theme=dark] .colab-df-convert:hover {\n",
       "      background-color: #434B5C;\n",
       "      box-shadow: 0px 1px 3px 1px rgba(0, 0, 0, 0.15);\n",
       "      filter: drop-shadow(0px 1px 2px rgba(0, 0, 0, 0.3));\n",
       "      fill: #FFFFFF;\n",
       "    }\n",
       "  </style>\n",
       "\n",
       "      <script>\n",
       "        const buttonEl =\n",
       "          document.querySelector('#df-7c691ac4-10e9-46c0-a2d6-22b62a73e9b4 button.colab-df-convert');\n",
       "        buttonEl.style.display =\n",
       "          google.colab.kernel.accessAllowed ? 'block' : 'none';\n",
       "\n",
       "        async function convertToInteractive(key) {\n",
       "          const element = document.querySelector('#df-7c691ac4-10e9-46c0-a2d6-22b62a73e9b4');\n",
       "          const dataTable =\n",
       "            await google.colab.kernel.invokeFunction('convertToInteractive',\n",
       "                                                     [key], {});\n",
       "          if (!dataTable) return;\n",
       "\n",
       "          const docLinkHtml = 'Like what you see? Visit the ' +\n",
       "            '<a target=\"_blank\" href=https://colab.research.google.com/notebooks/data_table.ipynb>data table notebook</a>'\n",
       "            + ' to learn more about interactive tables.';\n",
       "          element.innerHTML = '';\n",
       "          dataTable['output_type'] = 'display_data';\n",
       "          await google.colab.output.renderOutput(dataTable, element);\n",
       "          const docLink = document.createElement('div');\n",
       "          docLink.innerHTML = docLinkHtml;\n",
       "          element.appendChild(docLink);\n",
       "        }\n",
       "      </script>\n",
       "    </div>\n",
       "  </div>\n",
       "  "
      ],
      "text/plain": [
       "        age  job  marital  education  default   balance  housing  loan  \\\n",
       "0 -1.056270   10        1          0        0  0.121072        0     0   \n",
       "1 -0.772583    7        1          1        0  1.118644        1     1   \n",
       "2 -0.583458    4        2          2        0 -0.024144        1     0   \n",
       "3 -1.056270    4        1          2        0  0.017726        1     1   \n",
       "4  1.686036    1        1          1        0 -0.472753        1     0   \n",
       "\n",
       "   contact       day  month  duration  campaign     pdays  previous  poutcome  \\\n",
       "0        0  0.374052     10 -0.711861 -0.576829 -0.407218 -0.320413         3   \n",
       "1        0 -0.596026      8 -0.169194 -0.576829  2.989044  2.041734         0   \n",
       "2        0  0.010273      0 -0.303898 -0.576829  2.899143  0.270124         0   \n",
       "3        2 -1.566105      6 -0.250017  0.387967 -0.407218 -0.320413         3   \n",
       "4        2 -1.323585      8 -0.146102 -0.576829 -0.407218 -0.320413         3   \n",
       "\n",
       "   y  \n",
       "0  0  \n",
       "1  0  \n",
       "2  0  \n",
       "3  0  \n",
       "4  0  "
      ]
     },
     "execution_count": 13,
     "metadata": {},
     "output_type": "execute_result"
    }
   ],
   "source": [
    "#라벨 인코딩을 사용하여 문자데이터 숫자로 변경한다.\n",
    "from sklearn import preprocessing\n",
    "\n",
    "def encode_features(dataDF):\n",
    "    features = ['job', 'marital', 'education', 'default', 'housing', 'loan', 'contact', 'month', 'poutcome', 'y']\n",
    "    for feature in features:\n",
    "        le = preprocessing.LabelEncoder()\n",
    "        le = le.fit(dataDF[feature])\n",
    "        dataDF[feature] = le.transform(dataDF[feature])\n",
    "    return dataDF\n",
    "\n",
    "bank_pre = encode_features(bank_df)\n",
    "bank_pre.head()"
   ]
  },
  {
   "cell_type": "markdown",
   "metadata": {
    "id": "fWwCQLExsn3p"
   },
   "source": [
    "###전처리한 데이터로 변수간 상관계수 확인해보기\n",
    "상관관계를 분석하기 위해 피어슨 계수를 사용하여 Heatmap으로 시각화"
   ]
  },
  {
   "cell_type": "code",
   "execution_count": 14,
   "metadata": {
    "colab": {
     "base_uri": "https://localhost:8080/",
     "height": 646
    },
    "executionInfo": {
     "elapsed": 307,
     "status": "ok",
     "timestamp": 1669429008132,
     "user": {
      "displayName": "최민영",
      "userId": "03119700151434472823"
     },
     "user_tz": -540
    },
    "id": "8EvAsnD6rVGb",
    "outputId": "e7051788-815c-46d0-91fb-f875936506d4"
   },
   "outputs": [
    {
     "data": {
      "text/html": [
       "\n",
       "  <div id=\"df-3b68a90f-21e8-4e92-b537-397a5386150d\">\n",
       "    <div class=\"colab-df-container\">\n",
       "      <div>\n",
       "<style scoped>\n",
       "    .dataframe tbody tr th:only-of-type {\n",
       "        vertical-align: middle;\n",
       "    }\n",
       "\n",
       "    .dataframe tbody tr th {\n",
       "        vertical-align: top;\n",
       "    }\n",
       "\n",
       "    .dataframe thead th {\n",
       "        text-align: right;\n",
       "    }\n",
       "</style>\n",
       "<table border=\"1\" class=\"dataframe\">\n",
       "  <thead>\n",
       "    <tr style=\"text-align: right;\">\n",
       "      <th></th>\n",
       "      <th>age</th>\n",
       "      <th>job</th>\n",
       "      <th>marital</th>\n",
       "      <th>education</th>\n",
       "      <th>default</th>\n",
       "      <th>balance</th>\n",
       "      <th>housing</th>\n",
       "      <th>loan</th>\n",
       "      <th>contact</th>\n",
       "      <th>day</th>\n",
       "      <th>month</th>\n",
       "      <th>duration</th>\n",
       "      <th>campaign</th>\n",
       "      <th>pdays</th>\n",
       "      <th>previous</th>\n",
       "      <th>poutcome</th>\n",
       "      <th>y</th>\n",
       "    </tr>\n",
       "  </thead>\n",
       "  <tbody>\n",
       "    <tr>\n",
       "      <th>age</th>\n",
       "      <td>1.000000</td>\n",
       "      <td>-0.021500</td>\n",
       "      <td>-0.381485</td>\n",
       "      <td>-0.121613</td>\n",
       "      <td>-0.017885</td>\n",
       "      <td>0.083820</td>\n",
       "      <td>-0.193888</td>\n",
       "      <td>-0.011250</td>\n",
       "      <td>0.015161</td>\n",
       "      <td>-0.017853</td>\n",
       "      <td>-0.040714</td>\n",
       "      <td>-0.002367</td>\n",
       "      <td>-0.005148</td>\n",
       "      <td>-0.008894</td>\n",
       "      <td>-0.003511</td>\n",
       "      <td>-0.009320</td>\n",
       "      <td>0.045092</td>\n",
       "    </tr>\n",
       "    <tr>\n",
       "      <th>job</th>\n",
       "      <td>-0.021500</td>\n",
       "      <td>1.000000</td>\n",
       "      <td>0.069390</td>\n",
       "      <td>0.170160</td>\n",
       "      <td>0.008324</td>\n",
       "      <td>0.009797</td>\n",
       "      <td>-0.128353</td>\n",
       "      <td>-0.040245</td>\n",
       "      <td>-0.074068</td>\n",
       "      <td>0.012865</td>\n",
       "      <td>-0.096613</td>\n",
       "      <td>-0.006739</td>\n",
       "      <td>-0.002739</td>\n",
       "      <td>-0.022760</td>\n",
       "      <td>0.005029</td>\n",
       "      <td>0.013049</td>\n",
       "      <td>0.027401</td>\n",
       "    </tr>\n",
       "    <tr>\n",
       "      <th>marital</th>\n",
       "      <td>-0.381485</td>\n",
       "      <td>0.069390</td>\n",
       "      <td>1.000000</td>\n",
       "      <td>0.102714</td>\n",
       "      <td>-0.020745</td>\n",
       "      <td>0.024971</td>\n",
       "      <td>-0.029851</td>\n",
       "      <td>-0.045210</td>\n",
       "      <td>-0.068236</td>\n",
       "      <td>0.008794</td>\n",
       "      <td>-0.035855</td>\n",
       "      <td>0.006619</td>\n",
       "      <td>0.005915</td>\n",
       "      <td>0.017050</td>\n",
       "      <td>0.038028</td>\n",
       "      <td>-0.027716</td>\n",
       "      <td>0.015042</td>\n",
       "    </tr>\n",
       "    <tr>\n",
       "      <th>education</th>\n",
       "      <td>-0.121613</td>\n",
       "      <td>0.170160</td>\n",
       "      <td>0.102714</td>\n",
       "      <td>1.000000</td>\n",
       "      <td>-0.010534</td>\n",
       "      <td>0.057725</td>\n",
       "      <td>-0.087070</td>\n",
       "      <td>-0.054086</td>\n",
       "      <td>-0.110554</td>\n",
       "      <td>0.014926</td>\n",
       "      <td>-0.050086</td>\n",
       "      <td>-0.014878</td>\n",
       "      <td>-0.001723</td>\n",
       "      <td>0.012077</td>\n",
       "      <td>0.023983</td>\n",
       "      <td>-0.032135</td>\n",
       "      <td>0.042987</td>\n",
       "    </tr>\n",
       "    <tr>\n",
       "      <th>default</th>\n",
       "      <td>-0.017885</td>\n",
       "      <td>0.008324</td>\n",
       "      <td>-0.020745</td>\n",
       "      <td>-0.010534</td>\n",
       "      <td>1.000000</td>\n",
       "      <td>-0.070886</td>\n",
       "      <td>0.006881</td>\n",
       "      <td>0.063994</td>\n",
       "      <td>0.008448</td>\n",
       "      <td>-0.013261</td>\n",
       "      <td>0.014297</td>\n",
       "      <td>-0.011615</td>\n",
       "      <td>-0.012348</td>\n",
       "      <td>-0.026317</td>\n",
       "      <td>-0.026656</td>\n",
       "      <td>0.039032</td>\n",
       "      <td>0.001303</td>\n",
       "    </tr>\n",
       "    <tr>\n",
       "      <th>balance</th>\n",
       "      <td>0.083820</td>\n",
       "      <td>0.009797</td>\n",
       "      <td>0.024971</td>\n",
       "      <td>0.057725</td>\n",
       "      <td>-0.070886</td>\n",
       "      <td>1.000000</td>\n",
       "      <td>-0.050227</td>\n",
       "      <td>-0.071349</td>\n",
       "      <td>-0.009665</td>\n",
       "      <td>-0.008677</td>\n",
       "      <td>0.023113</td>\n",
       "      <td>-0.015950</td>\n",
       "      <td>-0.009976</td>\n",
       "      <td>0.009437</td>\n",
       "      <td>0.026196</td>\n",
       "      <td>-0.029268</td>\n",
       "      <td>0.017905</td>\n",
       "    </tr>\n",
       "    <tr>\n",
       "      <th>housing</th>\n",
       "      <td>-0.193888</td>\n",
       "      <td>-0.128353</td>\n",
       "      <td>-0.029851</td>\n",
       "      <td>-0.087070</td>\n",
       "      <td>0.006881</td>\n",
       "      <td>-0.050227</td>\n",
       "      <td>1.000000</td>\n",
       "      <td>0.018451</td>\n",
       "      <td>0.196454</td>\n",
       "      <td>-0.031291</td>\n",
       "      <td>0.266630</td>\n",
       "      <td>0.015740</td>\n",
       "      <td>-0.003574</td>\n",
       "      <td>0.116893</td>\n",
       "      <td>0.038621</td>\n",
       "      <td>-0.093093</td>\n",
       "      <td>-0.104683</td>\n",
       "    </tr>\n",
       "    <tr>\n",
       "      <th>loan</th>\n",
       "      <td>-0.011250</td>\n",
       "      <td>-0.040245</td>\n",
       "      <td>-0.045210</td>\n",
       "      <td>-0.054086</td>\n",
       "      <td>0.063994</td>\n",
       "      <td>-0.071349</td>\n",
       "      <td>0.018451</td>\n",
       "      <td>1.000000</td>\n",
       "      <td>-0.007319</td>\n",
       "      <td>-0.004879</td>\n",
       "      <td>0.016329</td>\n",
       "      <td>-0.004997</td>\n",
       "      <td>0.017120</td>\n",
       "      <td>-0.031086</td>\n",
       "      <td>-0.022115</td>\n",
       "      <td>0.027028</td>\n",
       "      <td>-0.070517</td>\n",
       "    </tr>\n",
       "    <tr>\n",
       "      <th>contact</th>\n",
       "      <td>0.015161</td>\n",
       "      <td>-0.074068</td>\n",
       "      <td>-0.068236</td>\n",
       "      <td>-0.110554</td>\n",
       "      <td>0.008448</td>\n",
       "      <td>-0.009665</td>\n",
       "      <td>0.196454</td>\n",
       "      <td>-0.007319</td>\n",
       "      <td>1.000000</td>\n",
       "      <td>-0.033807</td>\n",
       "      <td>0.370077</td>\n",
       "      <td>-0.011380</td>\n",
       "      <td>0.012278</td>\n",
       "      <td>-0.243223</td>\n",
       "      <td>-0.187232</td>\n",
       "      <td>0.267173</td>\n",
       "      <td>-0.133595</td>\n",
       "    </tr>\n",
       "    <tr>\n",
       "      <th>day</th>\n",
       "      <td>-0.017853</td>\n",
       "      <td>0.012865</td>\n",
       "      <td>0.008794</td>\n",
       "      <td>0.014926</td>\n",
       "      <td>-0.013261</td>\n",
       "      <td>-0.008677</td>\n",
       "      <td>-0.031291</td>\n",
       "      <td>-0.004879</td>\n",
       "      <td>-0.033807</td>\n",
       "      <td>1.000000</td>\n",
       "      <td>-0.014795</td>\n",
       "      <td>-0.024629</td>\n",
       "      <td>0.160706</td>\n",
       "      <td>-0.094352</td>\n",
       "      <td>-0.059114</td>\n",
       "      <td>0.073714</td>\n",
       "      <td>-0.011244</td>\n",
       "    </tr>\n",
       "    <tr>\n",
       "      <th>month</th>\n",
       "      <td>-0.040714</td>\n",
       "      <td>-0.096613</td>\n",
       "      <td>-0.035855</td>\n",
       "      <td>-0.050086</td>\n",
       "      <td>0.014297</td>\n",
       "      <td>0.023113</td>\n",
       "      <td>0.266630</td>\n",
       "      <td>0.016329</td>\n",
       "      <td>0.370077</td>\n",
       "      <td>-0.014795</td>\n",
       "      <td>1.000000</td>\n",
       "      <td>0.000851</td>\n",
       "      <td>-0.108915</td>\n",
       "      <td>0.033292</td>\n",
       "      <td>0.046899</td>\n",
       "      <td>-0.030189</td>\n",
       "      <td>-0.040933</td>\n",
       "    </tr>\n",
       "    <tr>\n",
       "      <th>duration</th>\n",
       "      <td>-0.002367</td>\n",
       "      <td>-0.006739</td>\n",
       "      <td>0.006619</td>\n",
       "      <td>-0.014878</td>\n",
       "      <td>-0.011615</td>\n",
       "      <td>-0.015950</td>\n",
       "      <td>0.015740</td>\n",
       "      <td>-0.004997</td>\n",
       "      <td>-0.011380</td>\n",
       "      <td>-0.024629</td>\n",
       "      <td>0.000851</td>\n",
       "      <td>1.000000</td>\n",
       "      <td>-0.068382</td>\n",
       "      <td>0.010380</td>\n",
       "      <td>0.018080</td>\n",
       "      <td>0.000478</td>\n",
       "      <td>0.401118</td>\n",
       "    </tr>\n",
       "    <tr>\n",
       "      <th>campaign</th>\n",
       "      <td>-0.005148</td>\n",
       "      <td>-0.002739</td>\n",
       "      <td>0.005915</td>\n",
       "      <td>-0.001723</td>\n",
       "      <td>-0.012348</td>\n",
       "      <td>-0.009976</td>\n",
       "      <td>-0.003574</td>\n",
       "      <td>0.017120</td>\n",
       "      <td>0.012278</td>\n",
       "      <td>0.160706</td>\n",
       "      <td>-0.108915</td>\n",
       "      <td>-0.068382</td>\n",
       "      <td>1.000000</td>\n",
       "      <td>-0.093137</td>\n",
       "      <td>-0.067833</td>\n",
       "      <td>0.110703</td>\n",
       "      <td>-0.061147</td>\n",
       "    </tr>\n",
       "    <tr>\n",
       "      <th>pdays</th>\n",
       "      <td>-0.008894</td>\n",
       "      <td>-0.022760</td>\n",
       "      <td>0.017050</td>\n",
       "      <td>0.012077</td>\n",
       "      <td>-0.026317</td>\n",
       "      <td>0.009437</td>\n",
       "      <td>0.116893</td>\n",
       "      <td>-0.031086</td>\n",
       "      <td>-0.243223</td>\n",
       "      <td>-0.094352</td>\n",
       "      <td>0.033292</td>\n",
       "      <td>0.010380</td>\n",
       "      <td>-0.093137</td>\n",
       "      <td>1.000000</td>\n",
       "      <td>0.577562</td>\n",
       "      <td>-0.859245</td>\n",
       "      <td>0.104087</td>\n",
       "    </tr>\n",
       "    <tr>\n",
       "      <th>previous</th>\n",
       "      <td>-0.003511</td>\n",
       "      <td>0.005029</td>\n",
       "      <td>0.038028</td>\n",
       "      <td>0.023983</td>\n",
       "      <td>-0.026656</td>\n",
       "      <td>0.026196</td>\n",
       "      <td>0.038621</td>\n",
       "      <td>-0.022115</td>\n",
       "      <td>-0.187232</td>\n",
       "      <td>-0.059114</td>\n",
       "      <td>0.046899</td>\n",
       "      <td>0.018080</td>\n",
       "      <td>-0.067833</td>\n",
       "      <td>0.577562</td>\n",
       "      <td>1.000000</td>\n",
       "      <td>-0.636372</td>\n",
       "      <td>0.116714</td>\n",
       "    </tr>\n",
       "    <tr>\n",
       "      <th>poutcome</th>\n",
       "      <td>-0.009320</td>\n",
       "      <td>0.013049</td>\n",
       "      <td>-0.027716</td>\n",
       "      <td>-0.032135</td>\n",
       "      <td>0.039032</td>\n",
       "      <td>-0.029268</td>\n",
       "      <td>-0.093093</td>\n",
       "      <td>0.027028</td>\n",
       "      <td>0.267173</td>\n",
       "      <td>0.073714</td>\n",
       "      <td>-0.030189</td>\n",
       "      <td>0.000478</td>\n",
       "      <td>0.110703</td>\n",
       "      <td>-0.859245</td>\n",
       "      <td>-0.636372</td>\n",
       "      <td>1.000000</td>\n",
       "      <td>-0.082632</td>\n",
       "    </tr>\n",
       "    <tr>\n",
       "      <th>y</th>\n",
       "      <td>0.045092</td>\n",
       "      <td>0.027401</td>\n",
       "      <td>0.015042</td>\n",
       "      <td>0.042987</td>\n",
       "      <td>0.001303</td>\n",
       "      <td>0.017905</td>\n",
       "      <td>-0.104683</td>\n",
       "      <td>-0.070517</td>\n",
       "      <td>-0.133595</td>\n",
       "      <td>-0.011244</td>\n",
       "      <td>-0.040933</td>\n",
       "      <td>0.401118</td>\n",
       "      <td>-0.061147</td>\n",
       "      <td>0.104087</td>\n",
       "      <td>0.116714</td>\n",
       "      <td>-0.082632</td>\n",
       "      <td>1.000000</td>\n",
       "    </tr>\n",
       "  </tbody>\n",
       "</table>\n",
       "</div>\n",
       "      <button class=\"colab-df-convert\" onclick=\"convertToInteractive('df-3b68a90f-21e8-4e92-b537-397a5386150d')\"\n",
       "              title=\"Convert this dataframe to an interactive table.\"\n",
       "              style=\"display:none;\">\n",
       "        \n",
       "  <svg xmlns=\"http://www.w3.org/2000/svg\" height=\"24px\"viewBox=\"0 0 24 24\"\n",
       "       width=\"24px\">\n",
       "    <path d=\"M0 0h24v24H0V0z\" fill=\"none\"/>\n",
       "    <path d=\"M18.56 5.44l.94 2.06.94-2.06 2.06-.94-2.06-.94-.94-2.06-.94 2.06-2.06.94zm-11 1L8.5 8.5l.94-2.06 2.06-.94-2.06-.94L8.5 2.5l-.94 2.06-2.06.94zm10 10l.94 2.06.94-2.06 2.06-.94-2.06-.94-.94-2.06-.94 2.06-2.06.94z\"/><path d=\"M17.41 7.96l-1.37-1.37c-.4-.4-.92-.59-1.43-.59-.52 0-1.04.2-1.43.59L10.3 9.45l-7.72 7.72c-.78.78-.78 2.05 0 2.83L4 21.41c.39.39.9.59 1.41.59.51 0 1.02-.2 1.41-.59l7.78-7.78 2.81-2.81c.8-.78.8-2.07 0-2.86zM5.41 20L4 18.59l7.72-7.72 1.47 1.35L5.41 20z\"/>\n",
       "  </svg>\n",
       "      </button>\n",
       "      \n",
       "  <style>\n",
       "    .colab-df-container {\n",
       "      display:flex;\n",
       "      flex-wrap:wrap;\n",
       "      gap: 12px;\n",
       "    }\n",
       "\n",
       "    .colab-df-convert {\n",
       "      background-color: #E8F0FE;\n",
       "      border: none;\n",
       "      border-radius: 50%;\n",
       "      cursor: pointer;\n",
       "      display: none;\n",
       "      fill: #1967D2;\n",
       "      height: 32px;\n",
       "      padding: 0 0 0 0;\n",
       "      width: 32px;\n",
       "    }\n",
       "\n",
       "    .colab-df-convert:hover {\n",
       "      background-color: #E2EBFA;\n",
       "      box-shadow: 0px 1px 2px rgba(60, 64, 67, 0.3), 0px 1px 3px 1px rgba(60, 64, 67, 0.15);\n",
       "      fill: #174EA6;\n",
       "    }\n",
       "\n",
       "    [theme=dark] .colab-df-convert {\n",
       "      background-color: #3B4455;\n",
       "      fill: #D2E3FC;\n",
       "    }\n",
       "\n",
       "    [theme=dark] .colab-df-convert:hover {\n",
       "      background-color: #434B5C;\n",
       "      box-shadow: 0px 1px 3px 1px rgba(0, 0, 0, 0.15);\n",
       "      filter: drop-shadow(0px 1px 2px rgba(0, 0, 0, 0.3));\n",
       "      fill: #FFFFFF;\n",
       "    }\n",
       "  </style>\n",
       "\n",
       "      <script>\n",
       "        const buttonEl =\n",
       "          document.querySelector('#df-3b68a90f-21e8-4e92-b537-397a5386150d button.colab-df-convert');\n",
       "        buttonEl.style.display =\n",
       "          google.colab.kernel.accessAllowed ? 'block' : 'none';\n",
       "\n",
       "        async function convertToInteractive(key) {\n",
       "          const element = document.querySelector('#df-3b68a90f-21e8-4e92-b537-397a5386150d');\n",
       "          const dataTable =\n",
       "            await google.colab.kernel.invokeFunction('convertToInteractive',\n",
       "                                                     [key], {});\n",
       "          if (!dataTable) return;\n",
       "\n",
       "          const docLinkHtml = 'Like what you see? Visit the ' +\n",
       "            '<a target=\"_blank\" href=https://colab.research.google.com/notebooks/data_table.ipynb>data table notebook</a>'\n",
       "            + ' to learn more about interactive tables.';\n",
       "          element.innerHTML = '';\n",
       "          dataTable['output_type'] = 'display_data';\n",
       "          await google.colab.output.renderOutput(dataTable, element);\n",
       "          const docLink = document.createElement('div');\n",
       "          docLink.innerHTML = docLinkHtml;\n",
       "          element.appendChild(docLink);\n",
       "        }\n",
       "      </script>\n",
       "    </div>\n",
       "  </div>\n",
       "  "
      ],
      "text/plain": [
       "                age       job   marital  education   default   balance  \\\n",
       "age        1.000000 -0.021500 -0.381485  -0.121613 -0.017885  0.083820   \n",
       "job       -0.021500  1.000000  0.069390   0.170160  0.008324  0.009797   \n",
       "marital   -0.381485  0.069390  1.000000   0.102714 -0.020745  0.024971   \n",
       "education -0.121613  0.170160  0.102714   1.000000 -0.010534  0.057725   \n",
       "default   -0.017885  0.008324 -0.020745  -0.010534  1.000000 -0.070886   \n",
       "balance    0.083820  0.009797  0.024971   0.057725 -0.070886  1.000000   \n",
       "housing   -0.193888 -0.128353 -0.029851  -0.087070  0.006881 -0.050227   \n",
       "loan      -0.011250 -0.040245 -0.045210  -0.054086  0.063994 -0.071349   \n",
       "contact    0.015161 -0.074068 -0.068236  -0.110554  0.008448 -0.009665   \n",
       "day       -0.017853  0.012865  0.008794   0.014926 -0.013261 -0.008677   \n",
       "month     -0.040714 -0.096613 -0.035855  -0.050086  0.014297  0.023113   \n",
       "duration  -0.002367 -0.006739  0.006619  -0.014878 -0.011615 -0.015950   \n",
       "campaign  -0.005148 -0.002739  0.005915  -0.001723 -0.012348 -0.009976   \n",
       "pdays     -0.008894 -0.022760  0.017050   0.012077 -0.026317  0.009437   \n",
       "previous  -0.003511  0.005029  0.038028   0.023983 -0.026656  0.026196   \n",
       "poutcome  -0.009320  0.013049 -0.027716  -0.032135  0.039032 -0.029268   \n",
       "y          0.045092  0.027401  0.015042   0.042987  0.001303  0.017905   \n",
       "\n",
       "            housing      loan   contact       day     month  duration  \\\n",
       "age       -0.193888 -0.011250  0.015161 -0.017853 -0.040714 -0.002367   \n",
       "job       -0.128353 -0.040245 -0.074068  0.012865 -0.096613 -0.006739   \n",
       "marital   -0.029851 -0.045210 -0.068236  0.008794 -0.035855  0.006619   \n",
       "education -0.087070 -0.054086 -0.110554  0.014926 -0.050086 -0.014878   \n",
       "default    0.006881  0.063994  0.008448 -0.013261  0.014297 -0.011615   \n",
       "balance   -0.050227 -0.071349 -0.009665 -0.008677  0.023113 -0.015950   \n",
       "housing    1.000000  0.018451  0.196454 -0.031291  0.266630  0.015740   \n",
       "loan       0.018451  1.000000 -0.007319 -0.004879  0.016329 -0.004997   \n",
       "contact    0.196454 -0.007319  1.000000 -0.033807  0.370077 -0.011380   \n",
       "day       -0.031291 -0.004879 -0.033807  1.000000 -0.014795 -0.024629   \n",
       "month      0.266630  0.016329  0.370077 -0.014795  1.000000  0.000851   \n",
       "duration   0.015740 -0.004997 -0.011380 -0.024629  0.000851  1.000000   \n",
       "campaign  -0.003574  0.017120  0.012278  0.160706 -0.108915 -0.068382   \n",
       "pdays      0.116893 -0.031086 -0.243223 -0.094352  0.033292  0.010380   \n",
       "previous   0.038621 -0.022115 -0.187232 -0.059114  0.046899  0.018080   \n",
       "poutcome  -0.093093  0.027028  0.267173  0.073714 -0.030189  0.000478   \n",
       "y         -0.104683 -0.070517 -0.133595 -0.011244 -0.040933  0.401118   \n",
       "\n",
       "           campaign     pdays  previous  poutcome         y  \n",
       "age       -0.005148 -0.008894 -0.003511 -0.009320  0.045092  \n",
       "job       -0.002739 -0.022760  0.005029  0.013049  0.027401  \n",
       "marital    0.005915  0.017050  0.038028 -0.027716  0.015042  \n",
       "education -0.001723  0.012077  0.023983 -0.032135  0.042987  \n",
       "default   -0.012348 -0.026317 -0.026656  0.039032  0.001303  \n",
       "balance   -0.009976  0.009437  0.026196 -0.029268  0.017905  \n",
       "housing   -0.003574  0.116893  0.038621 -0.093093 -0.104683  \n",
       "loan       0.017120 -0.031086 -0.022115  0.027028 -0.070517  \n",
       "contact    0.012278 -0.243223 -0.187232  0.267173 -0.133595  \n",
       "day        0.160706 -0.094352 -0.059114  0.073714 -0.011244  \n",
       "month     -0.108915  0.033292  0.046899 -0.030189 -0.040933  \n",
       "duration  -0.068382  0.010380  0.018080  0.000478  0.401118  \n",
       "campaign   1.000000 -0.093137 -0.067833  0.110703 -0.061147  \n",
       "pdays     -0.093137  1.000000  0.577562 -0.859245  0.104087  \n",
       "previous  -0.067833  0.577562  1.000000 -0.636372  0.116714  \n",
       "poutcome   0.110703 -0.859245 -0.636372  1.000000 -0.082632  \n",
       "y         -0.061147  0.104087  0.116714 -0.082632  1.000000  "
      ]
     },
     "execution_count": 14,
     "metadata": {},
     "output_type": "execute_result"
    }
   ],
   "source": [
    "#피어슨 상관계수 구하기\n",
    "#corr 함수 사용하여 pearson 방법을 사용하여 상관계수를 구한다.\n",
    "cols = ['age', 'job', 'marital', 'education', 'default', 'balance', 'housing', 'loan', 'contact', 'day', 'month', 'duration', 'campaign' ,'pdays', 'previous', 'poutcome', 'y'] \n",
    "corr = bank_pre[cols].corr(method = 'pearson')\n",
    "corr"
   ]
  },
  {
   "cell_type": "code",
   "execution_count": 15,
   "metadata": {
    "executionInfo": {
     "elapsed": 370,
     "status": "ok",
     "timestamp": 1669429022906,
     "user": {
      "displayName": "최민영",
      "userId": "03119700151434472823"
     },
     "user_tz": -540
    },
    "id": "RevoxpwqriUw"
   },
   "outputs": [],
   "source": [
    "corr.values\n",
    "column_names = ['age', 'job', 'marital', 'education', 'default', 'balance', 'housing', 'loan', 'contact', 'day', 'month', 'duration', 'campaign' ,'pdays', 'previous', 'poutcome', 'y'] "
   ]
  },
  {
   "cell_type": "code",
   "execution_count": 16,
   "metadata": {
    "colab": {
     "base_uri": "https://localhost:8080/",
     "height": 1000
    },
    "executionInfo": {
     "elapsed": 3963,
     "status": "ok",
     "timestamp": 1669429029507,
     "user": {
      "displayName": "최민영",
      "userId": "03119700151434472823"
     },
     "user_tz": -540
    },
    "id": "h3xQM4zorlym",
    "outputId": "e982df43-627b-48e1-f1b4-9cbd211a4c4b"
   },
   "outputs": [
    {
     "data": {
      "image/png": "[encoded data removed]",
      "text/plain": [
       "<Figure size 1080x1080 with 2 Axes>"
      ]
     },
     "metadata": {},
     "output_type": "display_data"
    }
   ],
   "source": [
    "sns.set(rc = {'figure.figsize':(15,15)})  #그래프 사이즈\n",
    "sns.set(font_scale=1)\n",
    "hm = sns.heatmap(corr.values, #데이터\n",
    "            cbar=True, #오른쪽 컬러 막대 출력 여부\n",
    "            annot=True, #차트에 숫자를 보여줄 것인지 여부\n",
    "            square=True, #차트를 정사각형으로 할 것인지\n",
    "            fmt='.2f', #숫자의 출력 소수점 자리 개수 조절\n",
    "            annot_kws={'size': 15}, #숫자 출력 시 숫자 크기 조절\n",
    "            yticklabels=column_names, #y축에 컬럼명 출력\n",
    "            xticklabels=column_names) #x축에 컬럼명 출력\n",
    "\n",
    "plt.tight_layout()\n",
    "plt.show()"
   ]
  },
  {
   "cell_type": "markdown",
   "metadata": {
    "id": "i57C_HU_sljN"
   },
   "source": [
    "-> pdays과 poutcome, previous와 poutcome에 음의상관관계가 있음을 확인할 수 있다.\n",
    "\n",
    "-> 결과값인 y와 독립변수간에는 약한 상관관계가 있음을 확인할 수 있다.\n"
   ]
  },
  {
   "cell_type": "markdown",
   "metadata": {
    "id": "8gPqLqcf5KjM"
   },
   "source": [
    "###독립변수, 종속변수 나눠주기\n",
    "- 종속변수: 마케팅 결과 'y'\n",
    "- 독립변수: 종속변수 제외 모두"
   ]
  },
  {
   "cell_type": "code",
   "execution_count": 17,
   "metadata": {
    "executionInfo": {
     "elapsed": 317,
     "status": "ok",
     "timestamp": 1669429326860,
     "user": {
      "displayName": "최민영",
      "userId": "03119700151434472823"
     },
     "user_tz": -540
    },
    "id": "0GO34rjHfoCS"
   },
   "outputs": [],
   "source": [
    "#독립변수, 종속 변수 나눠주기\n",
    "y_bank_df = bank_pre['y']\n",
    "X_bank_df= bank_pre.drop('y', axis=1)\n"
   ]
  },
  {
   "cell_type": "code",
   "execution_count": 18,
   "metadata": {
    "executionInfo": {
     "elapsed": 481,
     "status": "ok",
     "timestamp": 1669429328837,
     "user": {
      "displayName": "최민영",
      "userId": "03119700151434472823"
     },
     "user_tz": -540
    },
    "id": "bdH1LJ-k_zrh"
   },
   "outputs": [],
   "source": [
    "#분석을 위해 데이터의 타입을 Int 로 변환한다.\n",
    "\n",
    "X_bank_df = X_bank_df.astype('int')\n",
    "y_bank_df = y_bank_df.astype('int')"
   ]
  },
  {
   "cell_type": "markdown",
   "metadata": {
    "id": "vzhu49Gd5nxJ"
   },
   "source": [
    "###학습 데이터 셋: 80%, 테스트 데이터 셋: 20% 으로 나눠준다.\n",
    "\n",
    "\n"
   ]
  },
  {
   "cell_type": "code",
   "execution_count": 19,
   "metadata": {
    "executionInfo": {
     "elapsed": 284,
     "status": "ok",
     "timestamp": 1669429370701,
     "user": {
      "displayName": "최민영",
      "userId": "03119700151434472823"
     },
     "user_tz": -540
    },
    "id": "flfeqB_lS12T"
   },
   "outputs": [],
   "source": [
    "#train set : test set = 80 : 20\n",
    "\n",
    "from sklearn.model_selection import train_test_split\n",
    "X_train, X_test, y_train, y_test=train_test_split(X_bank_df, y_bank_df, \\\n",
    "                                                  test_size=0.2, random_state=11)\n"
   ]
  },
  {
   "cell_type": "code",
   "execution_count": 21,
   "metadata": {
    "executionInfo": {
     "elapsed": 351,
     "status": "ok",
     "timestamp": 1669429393189,
     "user": {
      "displayName": "최민영",
      "userId": "03119700151434472823"
     },
     "user_tz": -540
    },
    "id": "dJ4oDqu9_Y0y"
   },
   "outputs": [],
   "source": [
    "#분류한 데이터셋을 분석하기 위해 int타입으로 변환\n",
    "\n",
    "X_train = X_train.astype('int')\n",
    "y_train = y_train.astype('int')\n",
    "X_test = X_test.astype('int')\n",
    "y_test = y_test.astype('int')"
   ]
  },
  {
   "cell_type": "markdown",
   "metadata": {
    "id": "LYE85cwh52Es"
   },
   "source": [
    "##4. 데이터 분석"
   ]
  },
  {
   "cell_type": "markdown",
   "metadata": {
    "id": "VGN13oNx6AVM"
   },
   "source": [
    "###4.1 의사결정나무, 랜덤포레스트, 로지스틱 회귀를 사용하여 분석"
   ]
  },
  {
   "cell_type": "code",
   "execution_count": 22,
   "metadata": {
    "colab": {
     "base_uri": "https://localhost:8080/"
    },
    "executionInfo": {
     "elapsed": 919,
     "status": "ok",
     "timestamp": 1669429462310,
     "user": {
      "displayName": "최민영",
      "userId": "03119700151434472823"
     },
     "user_tz": -540
    },
    "id": "cAao6qkHTLVL",
    "outputId": "8fe99498-8722-43a5-a136-06bebad2bb33"
   },
   "outputs": [
    {
     "name": "stdout",
     "output_type": "stream",
     "text": [
      "DecisionTreeClassifier 정확도: 0.8552\n",
      "RandomForestClassifier 정확도:0.8983\n",
      "LogisticRegression 정확도: 0.9017\n"
     ]
    }
   ],
   "source": [
    "from sklearn.tree import DecisionTreeClassifier\n",
    "from sklearn.ensemble import RandomForestClassifier\n",
    "from sklearn.linear_model import LogisticRegression\n",
    "from sklearn.metrics import accuracy_score\n",
    "\n",
    "# 의사결정나무, Random Forest, 로지스틱 회귀를 위한 사이킷런 Classifier 클래스 생성\n",
    "dt_clf = DecisionTreeClassifier(random_state=11)\n",
    "rf_clf = RandomForestClassifier(random_state=11)\n",
    "lr_clf = LogisticRegression(max_iter=500)\n",
    "\n",
    "\n",
    "# DecisionTreeClassifier 학습/예측/평가\n",
    "dt_clf.fit(X_train , y_train)\n",
    "dt_pred = dt_clf.predict(X_test)\n",
    "print('DecisionTreeClassifier 정확도: {0:.4f}'.format(accuracy_score(y_test, dt_pred)))\n",
    "\n",
    "# RandomForestClassifier 학습/예측/평가\n",
    "rf_clf.fit(X_train , y_train)\n",
    "rf_pred = rf_clf.predict(X_test)\n",
    "print('RandomForestClassifier 정확도:{0:.4f}'.format(accuracy_score(y_test, rf_pred)))\n",
    "\n",
    "# LogisticRegression 학습/예측/평가\n",
    "lr_clf.fit(X_train , y_train)\n",
    "lr_pred = lr_clf.predict(X_test)\n",
    "print('LogisticRegression 정확도: {0:.4f}'.format(accuracy_score(y_test, lr_pred)))"
   ]
  },
  {
   "cell_type": "markdown",
   "metadata": {
    "id": "3RQG_Li93tmG"
   },
   "source": [
    "- max_iter는 Gradient Descent 방식을 반복해서 몇번 수행할 것인가를 나타냄\n",
    "- 수렴하게 되면 max_iter 값을 늘려도 성능이 거의 달라지지 않는다.\n",
    "- warning이 뜨지않는 max_iter값 입력(값이 작으면 warning이 뜬다. )\n"
   ]
  },
  {
   "cell_type": "markdown",
   "metadata": {
    "id": "glEFz2Pk7gpI"
   },
   "source": [
    "###4.2 k-fold 교차 검증"
   ]
  },
  {
   "cell_type": "code",
   "execution_count": 25,
   "metadata": {
    "colab": {
     "base_uri": "https://localhost:8080/"
    },
    "executionInfo": {
     "elapsed": 4,
     "status": "ok",
     "timestamp": 1669429579598,
     "user": {
      "displayName": "최민영",
      "userId": "03119700151434472823"
     },
     "user_tz": -540
    },
    "id": "hWKanwkeTSHB",
    "outputId": "67060b30-c0a6-4b6e-c779-e5ca0bb980ef"
   },
   "outputs": [
    {
     "name": "stdout",
     "output_type": "stream",
     "text": [
      "교차 검증 0 정확도: 0.8564\n",
      "교차 검증 1 정확도: 0.8496\n",
      "교차 검증 2 정확도: 0.8662\n",
      "교차 검증 3 정확도: 0.8650\n",
      "교차 검증 4 정확도: 0.8606\n",
      "평균 정확도: 0.8595\n"
     ]
    }
   ],
   "source": [
    "from sklearn.model_selection import KFold\n",
    "#decision tree에 대해 5-fold\n",
    "def exec_kfold(clf, folds=5):\n",
    "    # 폴드 세트를 5개인 KFold객체를 생성, 폴드 수만큼 예측결과 저장을 위한  리스트 객체 생성.\n",
    "    kfold = KFold(n_splits=folds)\n",
    "    scores = []\n",
    "    \n",
    "    # KFold 교차 검증 수행. \n",
    "    for iter_count , (train_index, test_index) in enumerate(kfold.split(X_bank_df)):\n",
    "        # X_bank_df 데이터에서 교차 검증별로 학습과 검증 데이터를 가리키는 index 생성\n",
    "        X_train, X_test = X_bank_df.values[train_index], X_bank_df.values[test_index]\n",
    "        y_train, y_test = y_bank_df.values[train_index], y_bank_df.values[test_index]\n",
    "        \n",
    "        # Classifier 학습, 예측, 정확도 계산 \n",
    "        clf.fit(X_train, y_train) \n",
    "        predictions = clf.predict(X_test)\n",
    "        accuracy = accuracy_score(y_test, predictions)\n",
    "        scores.append(accuracy)\n",
    "        print(\"교차 검증 {0} 정확도: {1:.4f}\".format(iter_count, accuracy))     \n",
    "    \n",
    "    # 5개 fold에서의 평균 정확도 계산. \n",
    "    mean_score = np.mean(scores)\n",
    "    print(\"평균 정확도: {0:.4f}\".format(mean_score)) \n",
    "    \n",
    "# exec_kfold 호출\n",
    "exec_kfold(dt_clf , folds=5) \n"
   ]
  },
  {
   "cell_type": "code",
   "execution_count": null,
   "metadata": {
    "colab": {
     "base_uri": "https://localhost:8080/"
    },
    "executionInfo": {
     "elapsed": 411,
     "status": "ok",
     "timestamp": 1669388425420,
     "user": {
      "displayName": "최민영",
      "userId": "03119700151434472823"
     },
     "user_tz": -540
    },
    "id": "VTqs8sZKTeKe",
    "outputId": "afbe0464-2860-4bac-da8f-09dea3d26e6a"
   },
   "outputs": [
    {
     "name": "stdout",
     "output_type": "stream",
     "text": [
      "교차 검증 0 정확도: 0.8508\n",
      "교차 검증 1 정확도: 0.8507\n",
      "교차 검증 2 정확도: 0.8662\n",
      "교차 검증 3 정확도: 0.8883\n",
      "교차 검증 4 정확도: 0.8573\n",
      "평균 정확도: 0.8626\n"
     ]
    }
   ],
   "source": [
    "from sklearn.model_selection import cross_val_score\n",
    "\n",
    "\n",
    "scores = cross_val_score(dt_clf, X_bank_df , y_bank_df , cv=5, error_score='raise') #클래스가 불균형하게 섞여있을 때 트레인/테스트 분류: 층화\n",
    "\n",
    "for iter_count,accuracy in enumerate(scores):\n",
    "    print(\"교차 검증 {0} 정확도: {1:.4f}\".format(iter_count, accuracy))\n",
    "\n",
    "print(\"평균 정확도: {0:.4f}\".format(np.mean(scores)))"
   ]
  },
  {
   "cell_type": "markdown",
   "metadata": {
    "id": "DYfKSWRAwoHW"
   },
   "source": [
    "-> cross_val_score를 사용해서 층화교차검증을 한 결과 k-fold로 분석했을 때 보다 평균 정확도가 0.8595에서 0.8626으로 상승하였다."
   ]
  },
  {
   "cell_type": "markdown",
   "metadata": {
    "id": "8eqBi9D-TlIs"
   },
   "source": [
    "###4.3 GridSearchCV"
   ]
  },
  {
   "cell_type": "markdown",
   "metadata": {
    "id": "d3olGzu_UYm-"
   },
   "source": [
    "모델 성능 향상 방법:GridSearchCV"
   ]
  },
  {
   "cell_type": "code",
   "execution_count": 26,
   "metadata": {
    "colab": {
     "base_uri": "https://localhost:8080/"
    },
    "executionInfo": {
     "elapsed": 1935,
     "status": "ok",
     "timestamp": 1669429778097,
     "user": {
      "displayName": "최민영",
      "userId": "03119700151434472823"
     },
     "user_tz": -540
    },
    "id": "UyVaNDq7TjlJ",
    "outputId": "4618b97f-854a-4c8d-f03e-fce949a712ef"
   },
   "outputs": [
    {
     "name": "stdout",
     "output_type": "stream",
     "text": [
      "GridSearchCV 최적 하이퍼 파라미터 : {'max_depth': 5, 'min_samples_leaf': 8, 'min_samples_split': 2}\n",
      "GridSearchCV 최고 정확도: 0.8899\n",
      "테스트 세트에서의 DecisionTreeClassifier 정확도 : 0.9050\n"
     ]
    }
   ],
   "source": [
    "from sklearn.model_selection import GridSearchCV\n",
    "\n",
    "\n",
    "parameters = {'max_depth':[2,3,5,10],\n",
    "             'min_samples_split':[2,3,5], 'min_samples_leaf':[1,5,8]}\n",
    "\n",
    "grid_dclf = GridSearchCV(dt_clf , param_grid=parameters , scoring='accuracy' , cv=5)\n",
    "grid_dclf.fit(X_train , y_train)\n",
    "\n",
    "print('GridSearchCV 최적 하이퍼 파라미터 :',grid_dclf.best_params_)\n",
    "print('GridSearchCV 최고 정확도: {0:.4f}'.format(grid_dclf.best_score_))\n",
    "best_dclf = grid_dclf.best_estimator_\n",
    "\n",
    "# GridSearchCV의 최적 하이퍼 파라미터로 학습된 Estimator로 예측 및 평가 수행. \n",
    "dpredictions = best_dclf.predict(X_test)\n",
    "accuracy = accuracy_score(y_test , dpredictions)\n",
    "print('테스트 세트에서의 DecisionTreeClassifier 정확도 : {0:.4f}'.format(accuracy))"
   ]
  },
  {
   "cell_type": "markdown",
   "metadata": {
    "id": "zU-Z8Gpj1I-t"
   },
   "source": [
    "-> 앞선 의사결정나무의 졍확도(0.8552)보다 정확도가 증가하였다."
   ]
  },
  {
   "cell_type": "markdown",
   "metadata": {
    "id": "J3t0wzbSVIlg"
   },
   "source": [
    "###4.4 ROC Curve"
   ]
  },
  {
   "cell_type": "code",
   "execution_count": 27,
   "metadata": {
    "colab": {
     "base_uri": "https://localhost:8080/"
    },
    "executionInfo": {
     "elapsed": 466,
     "status": "ok",
     "timestamp": 1669429810750,
     "user": {
      "displayName": "최민영",
      "userId": "03119700151434472823"
     },
     "user_tz": -540
    },
    "id": "xhbxptLeTzIy",
    "outputId": "21ded0b8-e208-425a-cc5b-f2e98615569c"
   },
   "outputs": [
    {
     "name": "stdout",
     "output_type": "stream",
     "text": [
      "ROC AUC 값: 0.8167\n"
     ]
    }
   ],
   "source": [
    "from sklearn.metrics import roc_auc_score\n",
    "\n",
    "#roc_auc_score 함수를 이용하여 AUC 값 계산\n",
    "pred_proba = lr_clf.predict_proba(X_test)[:, 1]\n",
    "roc_score = roc_auc_score(y_test, pred_proba)\n",
    "print('ROC AUC 값: {0:.4f}'.format(roc_score))\n",
    "\n"
   ]
  },
  {
   "cell_type": "code",
   "execution_count": 28,
   "metadata": {
    "colab": {
     "base_uri": "https://localhost:8080/"
    },
    "executionInfo": {
     "elapsed": 294,
     "status": "ok",
     "timestamp": 1669429826111,
     "user": {
      "displayName": "최민영",
      "userId": "03119700151434472823"
     },
     "user_tz": -540
    },
    "id": "Uxb6nUHiUIN5",
    "outputId": "90f8f1fa-76e4-47a4-d5f4-bbf9f9cfd2d8"
   },
   "outputs": [
    {
     "name": "stdout",
     "output_type": "stream",
     "text": [
      "샘플 추출을 위한 임곗값 배열의 index: [  1   6  11  16  21  26  31  36  41  46  51  56  61  66  71  76  81  86\n",
      "  91  96 101 106 111 116 121 126 131 136 141 146 151 156 161 166 171 176\n",
      " 181 186 191 196 201 206 211 216 221 226 231 236]\n",
      "샘플 index로 추출한 임곗값:  [1.   0.55 0.46 0.38 0.3  0.23 0.21 0.2  0.2  0.19 0.18 0.18 0.17 0.17\n",
      " 0.16 0.16 0.15 0.15 0.14 0.14 0.14 0.14 0.14 0.13 0.13 0.12 0.11 0.1\n",
      " 0.1  0.1  0.09 0.09 0.09 0.08 0.08 0.07 0.07 0.07 0.05 0.04 0.04 0.03\n",
      " 0.03 0.03 0.03 0.02 0.01 0.  ]\n",
      "샘플 임곗값별 FPR:  [0.    0.005 0.009 0.011 0.02  0.035 0.051 0.056 0.064 0.067 0.074 0.08\n",
      " 0.09  0.095 0.116 0.122 0.147 0.158 0.173 0.188 0.201 0.214 0.224 0.247\n",
      " 0.267 0.305 0.319 0.345 0.362 0.371 0.409 0.431 0.441 0.467 0.543 0.557\n",
      " 0.595 0.609 0.661 0.747 0.766 0.811 0.839 0.858 0.889 0.913 0.965 1.   ]\n",
      "샘플 임곗값별 TPR:  [0.01  0.104 0.135 0.188 0.208 0.26  0.281 0.333 0.365 0.406 0.427 0.448\n",
      " 0.479 0.51  0.531 0.562 0.573 0.594 0.604 0.625 0.635 0.667 0.688 0.708\n",
      " 0.719 0.74  0.781 0.802 0.823 0.844 0.865 0.875 0.896 0.917 0.917 0.948\n",
      " 0.948 0.958 0.969 0.969 0.99  0.99  0.99  0.99  0.99  0.99  1.    1.   ]\n"
     ]
    }
   ],
   "source": [
    "from sklearn.metrics import roc_curve\n",
    "\n",
    "# 레이블 값이 1일때의 예측 확률을 추출 \n",
    "pred_proba_class1 = lr_clf.predict_proba(X_test)[:, 1] \n",
    "\n",
    "fprs , tprs , thresholds = roc_curve(y_test, pred_proba_class1, pos_label=1)\n",
    "#roc_curve 함수를 사용해 그래프를 그리는 값 가져옴\n",
    "# 반환된 임곗값 배열에서 샘플로 데이터를 추출하되, 임곗값을 5 Step으로 추출. \n",
    "# thresholds[0]은 max(예측확률)+1로 임의 설정됨. 이를 제외하기 위해 np.arange는 1부터 시작\n",
    "thr_index = np.arange(1, thresholds.shape[0],5)\n",
    "print('샘플 추출을 위한 임곗값 배열의 index:', thr_index)\n",
    "print('샘플 index로 추출한 임곗값: ', np.round(thresholds[thr_index], 2))\n",
    "\n",
    "# 5 step 단위로 추출된 임계값에 따른 FPR, TPR 값\n",
    "print('샘플 임곗값별 FPR: ', np.round(fprs[thr_index], 3))\n",
    "print('샘플 임곗값별 TPR: ', np.round(tprs[thr_index], 3))"
   ]
  },
  {
   "cell_type": "code",
   "execution_count": 29,
   "metadata": {
    "colab": {
     "base_uri": "https://localhost:8080/",
     "height": 398
    },
    "executionInfo": {
     "elapsed": 896,
     "status": "ok",
     "timestamp": 1669429830608,
     "user": {
      "displayName": "최민영",
      "userId": "03119700151434472823"
     },
     "user_tz": -540
    },
    "id": "KiKQUE5vUAf0",
    "outputId": "856a3adb-4451-47ee-afec-28a096a1cb04"
   },
   "outputs": [
    {
     "data": {
      "image/png": "[encoded data removed]",
      "text/plain": [
       "<Figure size 432x432 with 1 Axes>"
      ]
     },
     "metadata": {},
     "output_type": "display_data"
    }
   ],
   "source": [
    "def roc_curve_plot(y_test, pred_proba_c1):\n",
    "    # 임곗값에 따른 FPR, TPR 값을 반환 받음. \n",
    "    fprs , tprs , thresholds = roc_curve(y_test ,pred_proba_c1)\n",
    "\n",
    "    plt.figure(figsize=(6,6)) #그래프 크기 설정\n",
    "\n",
    "    # ROC Curve를 plot 곡선으로 그림. \n",
    "    plt.plot(fprs , tprs, label='ROC')\n",
    "    # 가운데 대각선 직선을 그림. \n",
    "    plt.plot([0, 1], [0, 1], 'k--', label='Random')\n",
    "    \n",
    "    # FPR X 축의 Scale을 0.1 단위로 변경, X,Y 축명 설정등   \n",
    "    start, end = plt.xlim()\n",
    "    plt.xticks(np.round(np.arange(start, end, 0.1),2))\n",
    "    plt.xlim(0,1); plt.ylim(0,1)\n",
    "    plt.xlabel('FPR( 1 - Sensitivity )'); plt.ylabel('TPR( Recall )')\n",
    "    plt.legend()\n",
    "    plt.show()\n",
    "    \n",
    "roc_curve_plot(y_test, lr_clf.predict_proba(X_test)[:, 1] )\n"
   ]
  },
  {
   "cell_type": "markdown",
   "metadata": {
    "id": "Ggzx8L5KgPWL"
   },
   "source": [
    "###4.5 Confusion Matrix"
   ]
  },
  {
   "cell_type": "code",
   "execution_count": 30,
   "metadata": {
    "executionInfo": {
     "elapsed": 416,
     "status": "ok",
     "timestamp": 1669429877732,
     "user": {
      "displayName": "최민영",
      "userId": "03119700151434472823"
     },
     "user_tz": -540
    },
    "id": "a_XGzS_3gR4P"
   },
   "outputs": [],
   "source": [
    "from sklearn.metrics import accuracy_score, precision_score , recall_score , confusion_matrix\n",
    "\n",
    "def get_clf_eval(y_test , pred):\n",
    "    confusion = confusion_matrix( y_test, pred)\n",
    "    accuracy = accuracy_score(y_test , pred)\n",
    "    precision = precision_score(y_test , pred)\n",
    "    recall = recall_score(y_test , pred)\n",
    "    print('오차 행렬')\n",
    "    print(confusion)\n",
    "    print('정확도: {0:.4f}, 정밀도: {1:.4f}, 재현율: {2:.4f}'.format(accuracy , precision ,recall))"
   ]
  },
  {
   "cell_type": "code",
   "execution_count": 31,
   "metadata": {
    "colab": {
     "base_uri": "https://localhost:8080/"
    },
    "executionInfo": {
     "elapsed": 479,
     "status": "ok",
     "timestamp": 1669429880192,
     "user": {
      "displayName": "최민영",
      "userId": "03119700151434472823"
     },
     "user_tz": -540
    },
    "id": "ctLJxOjC8Qv1",
    "outputId": "a32353b5-1255-47ec-c9c8-2657495a846f"
   },
   "outputs": [
    {
     "name": "stdout",
     "output_type": "stream",
     "text": [
      "오차 행렬\n",
      "[[804   5]\n",
      " [ 84  12]]\n",
      "정확도: 0.9017, 정밀도: 0.7059, 재현율: 0.1250\n"
     ]
    }
   ],
   "source": [
    "lr_clf = LogisticRegression(max_iter=300)\n",
    "\n",
    "lr_clf.fit(X_train , y_train)\n",
    "pred = lr_clf.predict(X_test)\n",
    "get_clf_eval(y_test , pred)"
   ]
  },
  {
   "cell_type": "markdown",
   "metadata": {
    "id": "9k9_jJdDCyhd"
   },
   "source": [
    "###4.6 Binarizer"
   ]
  },
  {
   "cell_type": "markdown",
   "metadata": {
    "id": "3WzwMEd_Cyhe"
   },
   "source": [
    "여러개의 분류 결정 임곗값을 변경하면서  Binarizer를 이용하여 예측값 변환"
   ]
  },
  {
   "cell_type": "code",
   "execution_count": 33,
   "metadata": {
    "colab": {
     "base_uri": "https://localhost:8080/"
    },
    "executionInfo": {
     "elapsed": 495,
     "status": "ok",
     "timestamp": 1669429988916,
     "user": {
      "displayName": "최민영",
      "userId": "03119700151434472823"
     },
     "user_tz": -540
    },
    "id": "ysNok-zAx__U",
    "outputId": "4eb96c66-531d-48a4-f359-46bd49903dc3"
   },
   "outputs": [
    {
     "name": "stdout",
     "output_type": "stream",
     "text": [
      "pred_proba()결과 Shape : (905, 2)\n",
      "pred_proba array에서 앞 3개만 샘플로 추출 \n",
      ": [[0.86254638 0.13745362]\n",
      " [0.95322235 0.04677765]\n",
      " [0.85355318 0.14644682]]\n",
      "두개의 class 중에서 더 큰 확률을 클래스 값으로 예측 \n",
      " [[0.86254638 0.13745362 0.        ]\n",
      " [0.95322235 0.04677765 0.        ]\n",
      " [0.85355318 0.14644682 0.        ]]\n"
     ]
    }
   ],
   "source": [
    "pred_proba = lr_clf.predict_proba(X_test)\n",
    "#해당 클래스로 분류될 확률로 계산되어있음 50%를 threshold 로 잡아놓고 yes/no 나눔\n",
    "pred  = lr_clf.predict(X_test)\n",
    "print('pred_proba()결과 Shape : {0}'.format(pred_proba.shape))\n",
    "print('pred_proba array에서 앞 3개만 샘플로 추출 \\n:', pred_proba[:3])\n",
    "\n",
    "# 예측 확률 array 와 예측 결과값 array 를 concatenate 하여 예측 확률과 결과값을 한눈에 확인\n",
    "pred_proba_result = np.concatenate([pred_proba , pred.reshape(-1,1)],axis=1)\n",
    "print('두개의 class 중에서 더 큰 확률을 클래스 값으로 예측 \\n',pred_proba_result[:3])\n",
    "#첫번째 클래스 값, 두번째 클래스 값\n",
    "#두 번째 열이 50%가 넘으면 1, 아니면 0\n"
   ]
  },
  {
   "cell_type": "code",
   "execution_count": 34,
   "metadata": {
    "colab": {
     "base_uri": "https://localhost:8080/"
    },
    "executionInfo": {
     "elapsed": 466,
     "status": "ok",
     "timestamp": 1669429992085,
     "user": {
      "displayName": "최민영",
      "userId": "03119700151434472823"
     },
     "user_tz": -540
    },
    "id": "_XNFnF2nCyhe",
    "outputId": "0360fa71-5496-4514-9e44-f2b5f459f110"
   },
   "outputs": [
    {
     "name": "stdout",
     "output_type": "stream",
     "text": [
      "임곗값: 0.4\n",
      "오차 행렬\n",
      "[[801   8]\n",
      " [ 80  16]]\n",
      "정확도: 0.9028, 정밀도: 0.6667, 재현율: 0.1667\n",
      "임곗값: 0.45\n",
      "오차 행렬\n",
      "[[802   7]\n",
      " [ 83  13]]\n",
      "정확도: 0.9006, 정밀도: 0.6500, 재현율: 0.1354\n",
      "임곗값: 0.5\n",
      "오차 행렬\n",
      "[[804   5]\n",
      " [ 84  12]]\n",
      "정확도: 0.9017, 정밀도: 0.7059, 재현율: 0.1250\n",
      "임곗값: 0.55\n",
      "오차 행렬\n",
      "[[805   4]\n",
      " [ 87   9]]\n",
      "정확도: 0.8994, 정밀도: 0.6923, 재현율: 0.0938\n",
      "임곗값: 0.6\n",
      "오차 행렬\n",
      "[[805   4]\n",
      " [ 90   6]]\n",
      "정확도: 0.8961, 정밀도: 0.6000, 재현율: 0.0625\n"
     ]
    }
   ],
   "source": [
    "from sklearn.preprocessing import Binarizer\n",
    "\n",
    "# 테스트를 수행할 모든 임곗값을 리스트 객체로 저장. \n",
    "thresholds = [0.4, 0.45, 0.50, 0.55, 0.60]\n",
    "\n",
    "def get_eval_by_threshold(y_test , pred_proba_c1, thresholds):\n",
    "    # thresholds list객체내의 값을 차례로 iteration하면서 Evaluation 수행.\n",
    "    for custom_threshold in thresholds:\n",
    "        binarizer = Binarizer(threshold=custom_threshold).fit(pred_proba_c1) \n",
    "        custom_predict = binarizer.transform(pred_proba_c1)\n",
    "        print('임곗값:',custom_threshold)\n",
    "        get_clf_eval(y_test , custom_predict)\n",
    "\n",
    "get_eval_by_threshold(y_test ,pred_proba[:,1].reshape(-1,1), thresholds )"
   ]
  },
  {
   "cell_type": "markdown",
   "metadata": {
    "id": "b439Jyi8Cyhe"
   },
   "source": [
    "precision_recall_curve( ) 를 이용하여 임곗값에 따른 정밀도-재현율 값 추출"
   ]
  },
  {
   "cell_type": "code",
   "execution_count": 35,
   "metadata": {
    "colab": {
     "base_uri": "https://localhost:8080/"
    },
    "executionInfo": {
     "elapsed": 463,
     "status": "ok",
     "timestamp": 1669429998415,
     "user": {
      "displayName": "최민영",
      "userId": "03119700151434472823"
     },
     "user_tz": -540
    },
    "id": "XQiPkEWpCyhf",
    "outputId": "e1860926-4485-4c1d-d9a0-0e1ffc051c61"
   },
   "outputs": [
    {
     "name": "stdout",
     "output_type": "stream",
     "text": [
      "반환된 분류 결정 임곗값 배열의 Shape: (796,)\n",
      "반환된 precisions 배열의 Shape: (797,)\n",
      "반환된 recalls 배열의 Shape: (797,)\n",
      "thresholds 5 sample: [0.01437282 0.01451748 0.01459179 0.01478067 0.0149773 ]\n",
      "precisions 5 sample: [0.10983982 0.10882016 0.10894495 0.10907003 0.1091954 ]\n",
      "recalls 5 sample: [1.         0.98958333 0.98958333 0.98958333 0.98958333]\n",
      "샘플 추출을 위한 임계값 배열의 index 10개: [  0  15  30  45  60  75  90 105 120 135 150 165 180 195 210 225 240 255\n",
      " 270 285 300 315 330 345 360 375 390 405 420 435 450 465 480 495 510 525\n",
      " 540 555 570 585 600 615 630 645 660 675 690 705 720 735 750 765 780 795]\n",
      "샘플용 10개의 임곗값:  [0.01 0.02 0.02 0.02 0.03 0.03 0.03 0.03 0.03 0.04 0.04 0.04 0.05 0.05\n",
      " 0.05 0.06 0.06 0.07 0.07 0.07 0.07 0.08 0.08 0.08 0.08 0.08 0.09 0.09\n",
      " 0.09 0.1  0.1  0.1  0.11 0.11 0.12 0.12 0.13 0.13 0.14 0.14 0.14 0.15\n",
      " 0.15 0.16 0.16 0.17 0.18 0.19 0.21 0.22 0.26 0.34 0.53 1.  ]\n",
      "샘플 임계값별 정밀도:  [0.11  0.111 0.113 0.116 0.118 0.122 0.126 0.129 0.131 0.133 0.135 0.138\n",
      " 0.141 0.144 0.148 0.152 0.156 0.158 0.161 0.166 0.169 0.17  0.176 0.182\n",
      " 0.188 0.192 0.193 0.198 0.205 0.213 0.213 0.214 0.224 0.225 0.227 0.238\n",
      " 0.248 0.266 0.267 0.272 0.288 0.308 0.32  0.353 0.37  0.393 0.393 0.418\n",
      " 0.408 0.426 0.478 0.613 0.688 1.   ]\n",
      "샘플 임계값별 재현율:  [1.    0.99  0.99  0.99  0.99  0.99  0.99  0.99  0.99  0.979 0.969 0.969\n",
      " 0.969 0.969 0.969 0.969 0.969 0.958 0.948 0.948 0.938 0.917 0.917 0.917\n",
      " 0.917 0.906 0.875 0.865 0.865 0.865 0.823 0.792 0.792 0.76  0.729 0.729\n",
      " 0.708 0.708 0.667 0.635 0.615 0.594 0.562 0.562 0.531 0.5   0.438 0.396\n",
      " 0.323 0.271 0.229 0.198 0.115 0.01 ]\n"
     ]
    }
   ],
   "source": [
    "from sklearn.metrics import precision_recall_curve\n",
    "\n",
    "# 레이블 값이 1일때의 예측 확률을 추출 \n",
    "pred_proba_class1 = lr_clf.predict_proba(X_test)[:, 1] \n",
    "\n",
    "# 실제값 데이터 셋과 레이블 값이 1일 때의 예측 확률을 precision_recall_curve 인자로 입력 \n",
    "precisions, recalls, thresholds = precision_recall_curve(y_test, pred_proba_class1 )\n",
    "print('반환된 분류 결정 임곗값 배열의 Shape:', thresholds.shape)\n",
    "print('반환된 precisions 배열의 Shape:', precisions.shape)\n",
    "print('반환된 recalls 배열의 Shape:', recalls.shape)\n",
    "\n",
    "print(\"thresholds 5 sample:\", thresholds[:5])\n",
    "print(\"precisions 5 sample:\", precisions[:5])\n",
    "print(\"recalls 5 sample:\", recalls[:5])\n",
    "\n",
    "#반환된 임계값 배열 로우가 147건이므로 샘플로 10건만 추출하되, 임곗값을 15 Step으로 추출. \n",
    "thr_index = np.arange(0, thresholds.shape[0], 15)\n",
    "print('샘플 추출을 위한 임계값 배열의 index 10개:', thr_index)\n",
    "print('샘플용 10개의 임곗값: ', np.round(thresholds[thr_index], 2))\n",
    "\n",
    "# 15 step 단위로 추출된 임계값에 따른 정밀도와 재현율 값 \n",
    "print('샘플 임계값별 정밀도: ', np.round(precisions[thr_index], 3))\n",
    "print('샘플 임계값별 재현율: ', np.round(recalls[thr_index], 3))"
   ]
  },
  {
   "cell_type": "markdown",
   "metadata": {
    "id": "uYrAQXM4Cyhf"
   },
   "source": [
    "임곗값의 변경에 따른 정밀도-재현율 변화 곡선을 그림"
   ]
  },
  {
   "cell_type": "code",
   "execution_count": 36,
   "metadata": {
    "colab": {
     "base_uri": "https://localhost:8080/",
     "height": 394
    },
    "executionInfo": {
     "elapsed": 1277,
     "status": "ok",
     "timestamp": 1669430005961,
     "user": {
      "displayName": "최민영",
      "userId": "03119700151434472823"
     },
     "user_tz": -540
    },
    "id": "3jcSyKYLCyhf",
    "outputId": "f5ac5989-7619-4a61-ba15-648538a37399"
   },
   "outputs": [
    {
     "data": {
      "image/png": "[encoded data removed]",
      "text/plain": [
       "<Figure size 576x432 with 1 Axes>"
      ]
     },
     "metadata": {
      "needs_background": "light"
     },
     "output_type": "display_data"
    }
   ],
   "source": [
    "import matplotlib.pyplot as plt\n",
    "import matplotlib.ticker as ticker\n",
    "%matplotlib inline\n",
    "\n",
    "def precision_recall_curve_plot(y_test , pred_proba_c1):\n",
    "    # threshold ndarray와 이 threshold에 따른 정밀도, 재현율 ndarray 추출. \n",
    "    precisions, recalls, thresholds = precision_recall_curve( y_test, pred_proba_c1)\n",
    "    \n",
    "    # X축을 threshold값으로, Y축은 정밀도, 재현율 값으로 각각 Plot 수행. 정밀도는 점선으로 표시\n",
    "    plt.figure(figsize=(8,6))\n",
    "    threshold_boundary = thresholds.shape[0]\n",
    "    plt.plot(thresholds, precisions[0:threshold_boundary], linestyle='--', label='precision')\n",
    "    plt.plot(thresholds, recalls[0:threshold_boundary],label='recall')\n",
    "    \n",
    "    # threshold 값 X 축의 Scale을 0.1 단위로 변경\n",
    "    start, end = plt.xlim()\n",
    "    plt.xticks(np.round(np.arange(start, end, 0.1),2))\n",
    "    \n",
    "    # x축, y축 label과 legend, 그리고 grid 설정\n",
    "    plt.xlabel('Threshold value'); plt.ylabel('Precision and Recall value')\n",
    "    plt.legend(); plt.grid()\n",
    "    plt.show()\n",
    "    \n",
    "precision_recall_curve_plot( y_test, lr_clf.predict_proba(X_test)[:, 1] )\n"
   ]
  },
  {
   "cell_type": "markdown",
   "metadata": {
    "id": "7sELZ3OXAKhp"
   },
   "source": [
    "##5. 의미있는 변수를 선정해서 앞선 항목 재수행"
   ]
  },
  {
   "cell_type": "code",
   "execution_count": null,
   "metadata": {
    "colab": {
     "base_uri": "https://localhost:8080/",
     "height": 385
    },
    "executionInfo": {
     "elapsed": 818,
     "status": "ok",
     "timestamp": 1669387134380,
     "user": {
      "displayName": "최민영",
      "userId": "03119700151434472823"
     },
     "user_tz": -540
    },
    "id": "SmiJ4qNu1EnE",
    "outputId": "6032be4c-de42-4b86-8c6e-79c336209378"
   },
   "outputs": [
    {
     "data": {
      "image/png": "[encoded data removed]",
      "text/plain": [
       "<Figure size 864x432 with 1 Axes>"
      ]
     },
     "metadata": {},
     "output_type": "display_data"
    }
   ],
   "source": [
    "#변수 중요도 설정하여 데이터 분석을 시행한다.\n",
    "#의사결정나무분류기로 변수 중요도 파악한다.\n",
    "plt.style.use('seaborn-white')\n",
    "\n",
    "clf = DecisionTreeClassifier(class_weight='balanced', min_weight_fraction_leaf = 0.01)\n",
    "\n",
    "clf.fit(X_train, y_train)\n",
    "importances = clf.feature_importances_\n",
    "feature_names = bank_pre.drop('y', axis=1).columns\n",
    "indices = np.argsort(importances)\n",
    "\n",
    "def feature_importance_graph(indices, importances, feature_names):\n",
    "    plt.figure(figsize=(12,6))\n",
    "    plt.title(\"Feature Importance\", fontsize=10)\n",
    "    plt.barh(range(len(indices)), importances[indices], color='b',  align=\"center\")\n",
    "    plt.yticks(range(len(indices)), feature_names[indices], rotation='horizontal',fontsize=14)\n",
    "    plt.ylim([-1, len(indices)])\n",
    "    \n",
    "feature_importance_graph(indices, importances, feature_names)\n",
    "plt.show()"
   ]
  },
  {
   "cell_type": "markdown",
   "metadata": {
    "id": "rPRLcwD5AUoj"
   },
   "source": [
    "상위 7개 항목인 duration, poutcome, month, contact, age, day, housing 만을 사용하여 테스트해본다."
   ]
  },
  {
   "cell_type": "markdown",
   "metadata": {
    "id": "F4ChdKhxWJI9"
   },
   "source": [
    "###5.1 데이터 전처리"
   ]
  },
  {
   "cell_type": "markdown",
   "metadata": {
    "id": "mdvo8T6oU3Cl"
   },
   "source": [
    "**데이터 전처리 방법은 이전 단계와 동일"
   ]
  },
  {
   "cell_type": "code",
   "execution_count": 37,
   "metadata": {
    "executionInfo": {
     "elapsed": 19,
     "status": "ok",
     "timestamp": 1669430079635,
     "user": {
      "displayName": "최민영",
      "userId": "03119700151434472823"
     },
     "user_tz": -540
    },
    "id": "5uosSmD8Aus4"
   },
   "outputs": [],
   "source": [
    "#독립변수, 종속 변수 나눠주기\n",
    "y_bank_df_2 = bank_pre['y']\n",
    "#위에서 구한 7가지 변수외에 나머지 변수 제외시켜준다.\n",
    "X_bank_df_2 = bank_pre.drop(['pdays', 'job', 'education', 'previous', 'campaign', 'marital', 'loan', 'balance', 'default', 'y'], axis = 1)\n"
   ]
  },
  {
   "cell_type": "code",
   "execution_count": 38,
   "metadata": {
    "executionInfo": {
     "elapsed": 466,
     "status": "ok",
     "timestamp": 1669430086635,
     "user": {
      "displayName": "최민영",
      "userId": "03119700151434472823"
     },
     "user_tz": -540
    },
    "id": "_0jLomVdPYsL"
   },
   "outputs": [],
   "source": [
    "X_bank_df_2 = X_bank_df_2.astype('int')\n",
    "y_bank_df_2 = y_bank_df_2.astype('int')"
   ]
  },
  {
   "cell_type": "code",
   "execution_count": 39,
   "metadata": {
    "executionInfo": {
     "elapsed": 3,
     "status": "ok",
     "timestamp": 1669430087873,
     "user": {
      "displayName": "최민영",
      "userId": "03119700151434472823"
     },
     "user_tz": -540
    },
    "id": "xtLRN-MrAus4"
   },
   "outputs": [],
   "source": [
    "#train set : test set = 80 : 20\n",
    "\n",
    "from sklearn.model_selection import train_test_split\n",
    "X_train_2, X_test_2, y_train_2, y_test_2 = train_test_split(X_bank_df_2, y_bank_df_2, \\\n",
    "                                                  test_size=0.2, random_state=11)\n"
   ]
  },
  {
   "cell_type": "code",
   "execution_count": 40,
   "metadata": {
    "executionInfo": {
     "elapsed": 301,
     "status": "ok",
     "timestamp": 1669430091865,
     "user": {
      "displayName": "최민영",
      "userId": "03119700151434472823"
     },
     "user_tz": -540
    },
    "id": "BL2IiruePbYh"
   },
   "outputs": [],
   "source": [
    "X_train_2 = X_train_2.astype('int')\n",
    "y_train_2 = y_train_2.astype('int')\n",
    "X_test_2 = X_test_2.astype('int')\n",
    "y_test_2 = y_test_2.astype('int')"
   ]
  },
  {
   "cell_type": "markdown",
   "metadata": {
    "id": "pdauhOglWdm7"
   },
   "source": [
    "###5.2 데이터 분석"
   ]
  },
  {
   "cell_type": "markdown",
   "metadata": {
    "id": "Q14lI3UcygBl"
   },
   "source": [
    "앞선 방법과 동일한 데이터 분석방법 사용한다."
   ]
  },
  {
   "cell_type": "markdown",
   "metadata": {
    "id": "UTc5z6GpYfYD"
   },
   "source": [
    "의사결정나무, 랜덤포레스트, 로지스틱 회귀"
   ]
  },
  {
   "cell_type": "code",
   "execution_count": 45,
   "metadata": {
    "colab": {
     "base_uri": "https://localhost:8080/"
    },
    "executionInfo": {
     "elapsed": 829,
     "status": "ok",
     "timestamp": 1669430456044,
     "user": {
      "displayName": "최민영",
      "userId": "03119700151434472823"
     },
     "user_tz": -540
    },
    "id": "faHwL0ajAus4",
    "outputId": "0ac13476-9998-4690-e3d4-26c53bbfccb4"
   },
   "outputs": [
    {
     "name": "stdout",
     "output_type": "stream",
     "text": [
      "DecisionTreeClassifier 정확도: 0.8707\n",
      "RandomForestClassifier 정확도:0.8840\n",
      "LogisticRegression 정확도: 0.8983\n"
     ]
    }
   ],
   "source": [
    "from sklearn.tree import DecisionTreeClassifier\n",
    "from sklearn.ensemble import RandomForestClassifier\n",
    "from sklearn.linear_model import LogisticRegression\n",
    "from sklearn.metrics import accuracy_score\n",
    "\n",
    "# 의사결정나무, Random Forest, 로지스틱 회귀를 위한 사이킷런 Classifier 클래스 생성\n",
    "dt_clf_2 = DecisionTreeClassifier(random_state=11)\n",
    "rf_clf_2 = RandomForestClassifier(random_state=11)\n",
    "lr_clf_2 = LogisticRegression(max_iter=300)\n",
    "\n",
    "\n",
    "# DecisionTreeClassifier 학습/예측/평가\n",
    "dt_clf_2.fit(X_train_2 , y_train_2)\n",
    "dt_pred_2 = dt_clf_2.predict(X_test_2)\n",
    "print('DecisionTreeClassifier 정확도: {0:.4f}'.format(accuracy_score(y_test_2, dt_pred_2)))\n",
    "\n",
    "# RandomForestClassifier 학습/예측/평가\n",
    "rf_clf_2.fit(X_train_2 , y_train_2)\n",
    "rf_pred_2 = rf_clf_2.predict(X_test_2)\n",
    "print('RandomForestClassifier 정확도:{0:.4f}'.format(accuracy_score(y_test_2, rf_pred_2)))\n",
    "\n",
    "# LogisticRegression 학습/예측/평가\n",
    "lr_clf_2.fit(X_train_2 , y_train_2)\n",
    "lr_pred_2 = lr_clf_2.predict(X_test_2)\n",
    "print('LogisticRegression 정확도: {0:.4f}'.format(accuracy_score(y_test_2, lr_pred_2)))"
   ]
  },
  {
   "cell_type": "markdown",
   "metadata": {
    "id": "VY3elc3WYdtf"
   },
   "source": [
    "K-fold"
   ]
  },
  {
   "cell_type": "code",
   "execution_count": 49,
   "metadata": {
    "colab": {
     "base_uri": "https://localhost:8080/"
    },
    "executionInfo": {
     "elapsed": 431,
     "status": "ok",
     "timestamp": 1669430697845,
     "user": {
      "displayName": "최민영",
      "userId": "03119700151434472823"
     },
     "user_tz": -540
    },
    "id": "B2ElPguBAus5",
    "outputId": "72cbedb6-2c00-4d1e-fd27-0c9b43446497"
   },
   "outputs": [
    {
     "name": "stdout",
     "output_type": "stream",
     "text": [
      "교차 검증 0 정확도: 0.8862\n",
      "교차 검증 1 정확도: 0.8872\n",
      "교차 검증 2 정확도: 0.8827\n",
      "교차 검증 3 정확도: 0.8894\n",
      "교차 검증 4 정확도: 0.8805\n",
      "평균 정확도: 0.8852\n"
     ]
    }
   ],
   "source": [
    "from sklearn.model_selection import KFold\n",
    "#decision tree에 대해 5-fold\n",
    "def exec_kfold(clf, folds=5):\n",
    "    # 폴드 세트를 5개인 KFold객체를 생성, 폴드 수만큼 예측결과 저장을 위한  리스트 객체 생성.\n",
    "    kfold = KFold(n_splits=folds)\n",
    "    scores = []\n",
    "    \n",
    "    # KFold 교차 검증 수행. \n",
    "    for iter_count , (train_index, test_index) in enumerate(kfold.split(X_bank_df_2)):\n",
    "        # X_bank_df_2 데이터에서 교차 검증별로 학습과 검증 데이터를 가리키는 index 생성\n",
    "        X_train_2, X_test_2 = X_bank_df_2.values[train_index], X_bank_df_2.values[test_index]\n",
    "        y_train_2, y_test_2 = y_bank_df_2.values[train_index], y_bank_df_2.values[test_index]\n",
    "        \n",
    "        \n",
    "        # Classifier 학습, 예측, 정확도 계산 \n",
    "        clf.fit(X_train_2, y_train_2) \n",
    "        predictions = clf.predict(X_test_2)\n",
    "        accuracy = accuracy_score(y_test_2, predictions)\n",
    "        scores.append(accuracy)\n",
    "        print(\"교차 검증 {0} 정확도: {1:.4f}\".format(iter_count, accuracy))     \n",
    "    \n",
    "    # 5개 fold에서의 평균 정확도 계산. \n",
    "    mean_score = np.mean(scores)\n",
    "    print(\"평균 정확도: {0:.4f}\".format(mean_score)) \n",
    "# exec_kfold 호출\n",
    "exec_kfold(dt_clf_2 , folds=5) \n"
   ]
  },
  {
   "cell_type": "code",
   "execution_count": 50,
   "metadata": {
    "colab": {
     "base_uri": "https://localhost:8080/"
    },
    "executionInfo": {
     "elapsed": 367,
     "status": "ok",
     "timestamp": 1669430708228,
     "user": {
      "displayName": "최민영",
      "userId": "03119700151434472823"
     },
     "user_tz": -540
    },
    "id": "w1sb3jCqAus5",
    "outputId": "8d6de7f0-b1e5-4adb-88e6-2033f984a274"
   },
   "outputs": [
    {
     "name": "stdout",
     "output_type": "stream",
     "text": [
      "교차 검증 0 정확도: 0.8818\n",
      "교차 검증 1 정확도: 0.8894\n",
      "교차 검증 2 정확도: 0.8827\n",
      "교차 검증 3 정확도: 0.8861\n",
      "교차 검증 4 정확도: 0.8805\n",
      "평균 정확도: 0.8841\n"
     ]
    }
   ],
   "source": [
    "from sklearn.model_selection import cross_val_score\n",
    "\n",
    "scores = cross_val_score(dt_clf_2, X_bank_df_2 , y_bank_df_2 , cv=5, error_score='raise') #클래스가 불균형하게 섞여있을 때 트레인/테스트 분류: 층화\n",
    "\n",
    "for iter_count,accuracy in enumerate(scores):\n",
    "    print(\"교차 검증 {0} 정확도: {1:.4f}\".format(iter_count, accuracy))\n",
    "\n",
    "print(\"평균 정확도: {0:.4f}\".format(np.mean(scores)))"
   ]
  },
  {
   "cell_type": "markdown",
   "metadata": {
    "id": "bUaRxw_sy-HW"
   },
   "source": [
    "-> 전체 변수를 사용했을 때와 다르게, 층화 교차검증을 사용했을 때 평균 정확도가 올라가지 않는다."
   ]
  },
  {
   "cell_type": "markdown",
   "metadata": {
    "id": "8G1s318CYZyi"
   },
   "source": [
    "GridSearchCV"
   ]
  },
  {
   "cell_type": "code",
   "execution_count": 51,
   "metadata": {
    "colab": {
     "base_uri": "https://localhost:8080/"
    },
    "executionInfo": {
     "elapsed": 3773,
     "status": "ok",
     "timestamp": 1669430741818,
     "user": {
      "displayName": "최민영",
      "userId": "03119700151434472823"
     },
     "user_tz": -540
    },
    "id": "2TFyL9jjAus6",
    "outputId": "dd40d71c-fa8f-486a-8073-ed55b01ffcb6"
   },
   "outputs": [
    {
     "name": "stdout",
     "output_type": "stream",
     "text": [
      "GridSearchCV 최적 하이퍼 파라미터 : {'max_depth': 3, 'min_samples_leaf': 1, 'min_samples_split': 2}\n",
      "GridSearchCV 최고 정확도: 0.8916\n",
      "테스트 세트에서의 DecisionTreeClassifier 정확도 : 0.8805\n"
     ]
    }
   ],
   "source": [
    "from sklearn.model_selection import GridSearchCV\n",
    "\n",
    "parameters = {'max_depth':[2,3,5,10],\n",
    "             'min_samples_split':[2,3,5], 'min_samples_leaf':[1,5,8]}\n",
    "\n",
    "grid_dclf_2 = GridSearchCV(dt_clf_2 , param_grid=parameters , scoring='accuracy' , cv=5)\n",
    "grid_dclf_2.fit(X_train_2 , y_train_2)\n",
    "\n",
    "print('GridSearchCV 최적 하이퍼 파라미터 :',grid_dclf_2.best_params_)\n",
    "print('GridSearchCV 최고 정확도: {0:.4f}'.format(grid_dclf_2.best_score_))\n",
    "best_dclf_2 = grid_dclf_2.best_estimator_\n",
    "\n",
    "# GridSearchCV의 최적 하이퍼 파라미터로 학습된 Estimator로 예측 및 평가 수행. \n",
    "dpredictions_2 = best_dclf_2.predict(X_test_2)\n",
    "accuracy_2 = accuracy_score(y_test_2 , dpredictions_2)\n",
    "print('테스트 세트에서의 DecisionTreeClassifier 정확도 : {0:.4f}'.format(accuracy))"
   ]
  },
  {
   "cell_type": "markdown",
   "metadata": {
    "id": "6PKjfjcE1UO-"
   },
   "source": [
    "-> 앞선 의사결정나무의 정확도(0.8707)보다 정확도가 상승하였다."
   ]
  },
  {
   "cell_type": "markdown",
   "metadata": {
    "id": "XjraDKeQYXfp"
   },
   "source": [
    "ROC curve"
   ]
  },
  {
   "cell_type": "code",
   "execution_count": 52,
   "metadata": {
    "colab": {
     "base_uri": "https://localhost:8080/"
    },
    "executionInfo": {
     "elapsed": 329,
     "status": "ok",
     "timestamp": 1669430881408,
     "user": {
      "displayName": "최민영",
      "userId": "03119700151434472823"
     },
     "user_tz": -540
    },
    "id": "YDM5Yl2xAus6",
    "outputId": "93a949ff-f31c-4c14-fc22-4ea809659ff9"
   },
   "outputs": [
    {
     "name": "stdout",
     "output_type": "stream",
     "text": [
      "ROC AUC 값: 0.7894\n"
     ]
    }
   ],
   "source": [
    "from sklearn.metrics import roc_auc_score\n",
    "\n",
    "pred_proba_2 = lr_clf_2.predict_proba(X_test_2)[:, 1]\n",
    "roc_score_2 = roc_auc_score(y_test_2, pred_proba_2)\n",
    "print('ROC AUC 값: {0:.4f}'.format(roc_score_2))\n",
    "#roc_auc_score 함수를 이용하여 AUC 값 쉽게 가져올 수 있음"
   ]
  },
  {
   "cell_type": "code",
   "execution_count": null,
   "metadata": {
    "id": "Fn1dUXK3Aus6"
   },
   "outputs": [],
   "source": [
    "from sklearn.metrics import roc_curve\n",
    "\n",
    "# 레이블 값이 1일때의 예측 확률을 추출 \n",
    "pred_proba_class1_2 = lr_clf_2.predict_proba(X_test_2)[:, 1] \n",
    "\n",
    "fprs_2 , tprs_2 , thresholds_2 = roc_curve(y_test_2, pred_proba_class1_2)\n",
    "#roc_curve 함수를 사용해 그래프를 그리는 값 가져옴\n",
    "# 반환된 임곗값 배열에서 샘플로 데이터를 추출하되, 임곗값을 5 Step으로 추출. \n",
    "# thresholds[0]은 max(예측확률)+1로 임의 설정됨. 이를 제외하기 위해 np.arange는 1부터 시작\n",
    "thr_index_2 = np.arange(1, thresholds_2.shape[0],5)\n",
    "print('샘플 추출을 위한 임곗값 배열의 index:', thr_index_2)\n",
    "print('샘플 index로 추출한 임곗값: ', np.round(thresholds_2[thr_index_2], 2))\n",
    "\n",
    "# 5 step 단위로 추출된 임계값에 따른 FPR, TPR 값\n",
    "print('샘플 임곗값별 FPR: ', np.round(fprs_2[thr_index_2], 3))\n",
    "print('샘플 임곗값별 TPR: ', np.round(tprs_2[thr_index_2], 3))"
   ]
  },
  {
   "cell_type": "code",
   "execution_count": 55,
   "metadata": {
    "colab": {
     "base_uri": "https://localhost:8080/",
     "height": 398
    },
    "executionInfo": {
     "elapsed": 503,
     "status": "ok",
     "timestamp": 1669430953723,
     "user": {
      "displayName": "최민영",
      "userId": "03119700151434472823"
     },
     "user_tz": -540
    },
    "id": "wp6bxZ2DAus6",
    "outputId": "c3a2dfb2-5a1f-4e70-9618-7eeb7bddef9c"
   },
   "outputs": [
    {
     "data": {
      "image/png": "[encoded data removed]",
      "text/plain": [
       "<Figure size 432x432 with 1 Axes>"
      ]
     },
     "metadata": {
      "needs_background": "light"
     },
     "output_type": "display_data"
    }
   ],
   "source": [
    "def roc_curve_plot(y_test , pred_proba_c1):\n",
    "    # 임곗값에 따른 FPR, TPR 값을 반환 받음. \n",
    "    fprs , tprs , thresholds = roc_curve(y_test ,pred_proba_c1)\n",
    "\n",
    "    plt.figure(figsize=(6,6))\n",
    "\n",
    "\n",
    "    # ROC Curve를 plot 곡선으로 그림. \n",
    "    plt.plot(fprs , tprs, label='ROC')\n",
    "    # 가운데 대각선 직선을 그림. \n",
    "    plt.plot([0, 1], [0, 1], 'k--', label='Random')\n",
    "    \n",
    "    # FPR X 축의 Scale을 0.1 단위로 변경, X,Y 축명 설정등   \n",
    "    start, end = plt.xlim()\n",
    "    plt.xticks(np.round(np.arange(start, end, 0.1),2))\n",
    "    plt.xlim(0,1); plt.ylim(0,1)\n",
    "    plt.xlabel('FPR( 1 - Sensitivity )'); plt.ylabel('TPR( Recall )')\n",
    "    plt.legend()\n",
    "    plt.show()\n",
    "    \n",
    "roc_curve_plot(y_test_2, lr_clf_2.predict_proba(X_test_2)[:, 1] )\n"
   ]
  },
  {
   "cell_type": "markdown",
   "metadata": {
    "id": "6YKO1dP8Aus6"
   },
   "source": [
    "Confusion Matrix"
   ]
  },
  {
   "cell_type": "code",
   "execution_count": 56,
   "metadata": {
    "executionInfo": {
     "elapsed": 2625,
     "status": "ok",
     "timestamp": 1669430962677,
     "user": {
      "displayName": "최민영",
      "userId": "03119700151434472823"
     },
     "user_tz": -540
    },
    "id": "SD3NRC4mAus6"
   },
   "outputs": [],
   "source": [
    "from sklearn.metrics import accuracy_score, precision_score , recall_score , confusion_matrix\n",
    "\n",
    "def get_clf_eval(y_test , pred):\n",
    "    confusion = confusion_matrix( y_test, pred)\n",
    "    accuracy = accuracy_score(y_test , pred)\n",
    "    precision = precision_score(y_test , pred)\n",
    "    recall = recall_score(y_test , pred)\n",
    "    print('오차 행렬')\n",
    "    print(confusion)\n",
    "    print('정확도: {0:.4f}, 정밀도: {1:.4f}, 재현율: {2:.4f}'.format(accuracy , precision ,recall))"
   ]
  },
  {
   "cell_type": "code",
   "execution_count": 57,
   "metadata": {
    "colab": {
     "base_uri": "https://localhost:8080/"
    },
    "executionInfo": {
     "elapsed": 20,
     "status": "ok",
     "timestamp": 1669430973181,
     "user": {
      "displayName": "최민영",
      "userId": "03119700151434472823"
     },
     "user_tz": -540
    },
    "id": "kITxpVZmAus6",
    "outputId": "e693d046-dfa3-4c46-aa3d-2c837f69a397"
   },
   "outputs": [
    {
     "name": "stdout",
     "output_type": "stream",
     "text": [
      "오차 행렬\n",
      "[[805   4]\n",
      " [ 88   8]]\n",
      "정확도: 0.8983, 정밀도: 0.6667, 재현율: 0.0833\n"
     ]
    }
   ],
   "source": [
    "lr_clf_2 = LogisticRegression(max_iter=300)\n",
    "\n",
    "lr_clf_2.fit(X_train_2 , y_train_2)\n",
    "pred_2 = lr_clf_2.predict(X_test_2)\n",
    "get_clf_eval(y_test_2 , pred_2)"
   ]
  },
  {
   "cell_type": "markdown",
   "metadata": {
    "id": "YnR0Ym4WAus7"
   },
   "source": [
    "Precision/Recall Trade-off"
   ]
  },
  {
   "cell_type": "code",
   "execution_count": 58,
   "metadata": {
    "colab": {
     "base_uri": "https://localhost:8080/"
    },
    "executionInfo": {
     "elapsed": 6801,
     "status": "ok",
     "timestamp": 1669430994479,
     "user": {
      "displayName": "최민영",
      "userId": "03119700151434472823"
     },
     "user_tz": -540
    },
    "id": "aajXSvjvAus7",
    "outputId": "7bf6a80e-e0e4-42dc-aeb2-e788e9d6967e"
   },
   "outputs": [
    {
     "name": "stdout",
     "output_type": "stream",
     "text": [
      "pred_proba()결과 Shape : (905, 2)\n",
      "pred_proba array에서 앞 3개만 샘플로 추출 \n",
      ": [[0.86620434 0.13379566]\n",
      " [0.91545505 0.08454495]\n",
      " [0.86606385 0.13393615]]\n",
      "두개의 class 중에서 더 큰 확률을 클래스 값으로 예측 \n",
      " [[0.86620434 0.13379566 0.        ]\n",
      " [0.91545505 0.08454495 0.        ]\n",
      " [0.86606385 0.13393615 0.        ]]\n"
     ]
    }
   ],
   "source": [
    "pred_proba_2 = lr_clf_2.predict_proba(X_test_2)\n",
    "#해당 클래스로 분류될 확률로 계산되어있음 50%를 threshold 로 잡아놓고 yes/no 나눔\n",
    "pred_2  = lr_clf_2.predict(X_test_2)\n",
    "print('pred_proba()결과 Shape : {0}'.format(pred_proba_2.shape))\n",
    "print('pred_proba array에서 앞 3개만 샘플로 추출 \\n:', pred_proba_2[:3])\n",
    "\n",
    "# 예측 확률 array 와 예측 결과값 array 를 concatenate 하여 예측 확률과 결과값을 한눈에 확인\n",
    "pred_proba_result_2 = np.concatenate([pred_proba_2 , pred_2.reshape(-1,1)],axis=1)\n",
    "print('두개의 class 중에서 더 큰 확률을 클래스 값으로 예측 \\n',pred_proba_result_2[:3])\n",
    "#첫번째 클래스 값, 두번째 클래스 값\n",
    "#두 번째 열이 50%가 넘으면 1, 아니면 0\n"
   ]
  },
  {
   "cell_type": "markdown",
   "metadata": {
    "id": "aVNer5uaAus8"
   },
   "source": [
    "Binarizer"
   ]
  },
  {
   "cell_type": "code",
   "execution_count": 59,
   "metadata": {
    "colab": {
     "base_uri": "https://localhost:8080/"
    },
    "executionInfo": {
     "elapsed": 288,
     "status": "ok",
     "timestamp": 1669431056380,
     "user": {
      "displayName": "최민영",
      "userId": "03119700151434472823"
     },
     "user_tz": -540
    },
    "id": "KV1xZBbJ132I",
    "outputId": "17580341-b511-4e91-e238-e1a595bff857"
   },
   "outputs": [
    {
     "name": "stdout",
     "output_type": "stream",
     "text": [
      "pred_proba()결과 Shape : (905, 2)\n",
      "pred_proba array에서 앞 3개만 샘플로 추출 \n",
      ": [[0.86620434 0.13379566]\n",
      " [0.91545505 0.08454495]\n",
      " [0.86606385 0.13393615]]\n",
      "두개의 class 중에서 더 큰 확률을 클래스 값으로 예측 \n",
      " [[0.86620434 0.13379566 0.        ]\n",
      " [0.91545505 0.08454495 0.        ]\n",
      " [0.86606385 0.13393615 0.        ]]\n"
     ]
    }
   ],
   "source": [
    "pred_proba_2 = lr_clf_2.predict_proba(X_test_2)\n",
    "#해당 클래스로 분류될 확률로 계산되어있음 50%를 threshold 로 잡아놓고 yes/no 나눔\n",
    "pred_2  = lr_clf_2.predict(X_test_2)\n",
    "print('pred_proba()결과 Shape : {0}'.format(pred_proba_2.shape))\n",
    "print('pred_proba array에서 앞 3개만 샘플로 추출 \\n:', pred_proba_2[:3])\n",
    "\n",
    "# 예측 확률 array 와 예측 결과값 array 를 concatenate 하여 예측 확률과 결과값을 한눈에 확인\n",
    "pred_proba_result_2 = np.concatenate([pred_proba_2 , pred_2.reshape(-1,1)],axis=1)\n",
    "print('두개의 class 중에서 더 큰 확률을 클래스 값으로 예측 \\n',pred_proba_result_2[:3])\n",
    "#첫번째 클래스 값, 두번째 클래스 값\n",
    "#두 번째 열이 50%가 넘으면 1, 아니면 0\n"
   ]
  },
  {
   "cell_type": "code",
   "execution_count": 60,
   "metadata": {
    "colab": {
     "base_uri": "https://localhost:8080/"
    },
    "executionInfo": {
     "elapsed": 290,
     "status": "ok",
     "timestamp": 1669431067417,
     "user": {
      "displayName": "최민영",
      "userId": "03119700151434472823"
     },
     "user_tz": -540
    },
    "id": "X_10_L2tAus8",
    "outputId": "a57ec464-a614-4e4a-f555-003772b4a79f"
   },
   "outputs": [
    {
     "name": "stdout",
     "output_type": "stream",
     "text": [
      "임곗값: 0.4\n",
      "오차 행렬\n",
      "[[804   5]\n",
      " [ 83  13]]\n",
      "정확도: 0.9028, 정밀도: 0.7222, 재현율: 0.1354\n",
      "임곗값: 0.45\n",
      "오차 행렬\n",
      "[[805   4]\n",
      " [ 84  12]]\n",
      "정확도: 0.9028, 정밀도: 0.7500, 재현율: 0.1250\n",
      "임곗값: 0.5\n",
      "오차 행렬\n",
      "[[805   4]\n",
      " [ 88   8]]\n",
      "정확도: 0.8983, 정밀도: 0.6667, 재현율: 0.0833\n",
      "임곗값: 0.55\n",
      "오차 행렬\n",
      "[[806   3]\n",
      " [ 90   6]]\n",
      "정확도: 0.8972, 정밀도: 0.6667, 재현율: 0.0625\n",
      "임곗값: 0.6\n",
      "오차 행렬\n",
      "[[806   3]\n",
      " [ 90   6]]\n",
      "정확도: 0.8972, 정밀도: 0.6667, 재현율: 0.0625\n"
     ]
    }
   ],
   "source": [
    "# 테스트를 수행할 모든 임곗값을 리스트 객체로 저장. \n",
    "thresholds = [0.4, 0.45, 0.50, 0.55, 0.60]\n",
    "\n",
    "def get_eval_by_threshold(y_test , pred_proba_c1, thresholds):\n",
    "    # thresholds list객체내의 값을 차례로 iteration하면서 Evaluation 수행.\n",
    "    for custom_threshold in thresholds:\n",
    "        binarizer = Binarizer(threshold=custom_threshold).fit(pred_proba_c1) \n",
    "        custom_predict = binarizer.transform(pred_proba_c1)\n",
    "        print('임곗값:',custom_threshold)\n",
    "        get_clf_eval(y_test , custom_predict)\n",
    "\n",
    "get_eval_by_threshold(y_test_2 ,pred_proba_2[:,1].reshape(-1,1), thresholds )"
   ]
  },
  {
   "cell_type": "markdown",
   "metadata": {
    "id": "0N6QnVBPAus8"
   },
   "source": [
    "precision_recall_curve( ) 를 이용하여 임곗값에 따른 정밀도-재현율 값 추출"
   ]
  },
  {
   "cell_type": "code",
   "execution_count": 61,
   "metadata": {
    "colab": {
     "base_uri": "https://localhost:8080/"
    },
    "executionInfo": {
     "elapsed": 287,
     "status": "ok",
     "timestamp": 1669431079378,
     "user": {
      "displayName": "최민영",
      "userId": "03119700151434472823"
     },
     "user_tz": -540
    },
    "id": "onDl70_uAus8",
    "outputId": "c46f937b-9ca3-48f9-f8fa-3b623c00c1a1"
   },
   "outputs": [
    {
     "name": "stdout",
     "output_type": "stream",
     "text": [
      "반환된 분류 결정 임곗값 배열의 Shape: (317,)\n",
      "반환된 precisions 배열의 Shape: (318,)\n",
      "반환된 recalls 배열의 Shape: (318,)\n",
      "thresholds 5 sample: [0.027487   0.02759064 0.02867271 0.02964936 0.03357369]\n",
      "precisions 5 sample: [0.1254902  0.12434555 0.12683578 0.12734584 0.12751678]\n",
      "recalls 5 sample: [1.         0.98958333 0.98958333 0.98958333 0.98958333]\n",
      "샘플 추출을 위한 임계값 배열의 index 10개: [  0  15  30  45  60  75  90 105 120 135 150 165 180 195 210 225 240 255\n",
      " 270 285 300 315]\n",
      "샘플용 10개의 임곗값:  [0.03 0.04 0.05 0.06 0.07 0.07 0.08 0.08 0.1  0.11 0.12 0.12 0.13 0.14\n",
      " 0.15 0.16 0.18 0.2  0.23 0.29 0.43 0.98]\n",
      "샘플 임계값별 정밀도:  [0.125 0.129 0.139 0.147 0.152 0.153 0.164 0.182 0.185 0.188 0.192 0.236\n",
      " 0.267 0.286 0.327 0.387 0.371 0.408 0.444 0.588 0.765 1.   ]\n",
      "샘플 임계값별 재현율:  [1.    0.979 0.979 0.958 0.938 0.875 0.865 0.844 0.802 0.771 0.74  0.698\n",
      " 0.646 0.562 0.5   0.448 0.344 0.302 0.25  0.208 0.135 0.021]\n"
     ]
    }
   ],
   "source": [
    "from sklearn.metrics import precision_recall_curve\n",
    "\n",
    "# 레이블 값이 1일때의 예측 확률을 추출 \n",
    "pred_proba_class1_2 = lr_clf_2.predict_proba(X_test_2)[:, 1] \n",
    "\n",
    "# 실제값 데이터 셋과 레이블 값이 1일 때의 예측 확률을 precision_recall_curve 인자로 입력 \n",
    "precisions, recalls, thresholds = precision_recall_curve(y_test_2, pred_proba_class1_2)\n",
    "print('반환된 분류 결정 임곗값 배열의 Shape:', thresholds.shape)\n",
    "print('반환된 precisions 배열의 Shape:', precisions.shape)\n",
    "print('반환된 recalls 배열의 Shape:', recalls.shape)\n",
    "\n",
    "print(\"thresholds 5 sample:\", thresholds[:5])\n",
    "print(\"precisions 5 sample:\", precisions[:5])\n",
    "print(\"recalls 5 sample:\", recalls[:5])\n",
    "\n",
    "#반환된 임계값 배열 로우가 147건이므로 샘플로 10건만 추출하되, 임곗값을 15 Step으로 추출. \n",
    "thr_index = np.arange(0, thresholds.shape[0], 15)\n",
    "print('샘플 추출을 위한 임계값 배열의 index 10개:', thr_index)\n",
    "print('샘플용 10개의 임곗값: ', np.round(thresholds[thr_index], 2))\n",
    "\n",
    "# 15 step 단위로 추출된 임계값에 따른 정밀도와 재현율 값 \n",
    "print('샘플 임계값별 정밀도: ', np.round(precisions[thr_index], 3))\n",
    "print('샘플 임계값별 재현율: ', np.round(recalls[thr_index], 3))"
   ]
  },
  {
   "cell_type": "markdown",
   "metadata": {
    "id": "Xyge3YQ1Aus8"
   },
   "source": [
    "임곗값의 변경에 따른 정밀도-재현율 변화 곡선을 그림"
   ]
  },
  {
   "cell_type": "code",
   "execution_count": 62,
   "metadata": {
    "colab": {
     "base_uri": "https://localhost:8080/",
     "height": 394
    },
    "executionInfo": {
     "elapsed": 389,
     "status": "ok",
     "timestamp": 1669431083234,
     "user": {
      "displayName": "최민영",
      "userId": "03119700151434472823"
     },
     "user_tz": -540
    },
    "id": "nAIEB9QDAus8",
    "outputId": "dc76ce0e-a5c7-4f12-f104-e64f1fb346ba"
   },
   "outputs": [
    {
     "data": {
      "image/png": "[encoded data removed]",
      "text/plain": [
       "<Figure size 576x432 with 1 Axes>"
      ]
     },
     "metadata": {
      "needs_background": "light"
     },
     "output_type": "display_data"
    }
   ],
   "source": [
    "import matplotlib.pyplot as plt\n",
    "import matplotlib.ticker as ticker\n",
    "%matplotlib inline\n",
    "\n",
    "def precision_recall_curve_plot(y_test , pred_proba_c1):\n",
    "    # threshold ndarray와 이 threshold에 따른 정밀도, 재현율 ndarray 추출. \n",
    "    precisions, recalls, thresholds = precision_recall_curve( y_test, pred_proba_c1)\n",
    "    \n",
    "    # X축을 threshold값으로, Y축은 정밀도, 재현율 값으로 각각 Plot 수행. 정밀도는 점선으로 표시\n",
    "    plt.figure(figsize=(8,6))\n",
    "    threshold_boundary = thresholds.shape[0]\n",
    "    plt.plot(thresholds, precisions[0:threshold_boundary], linestyle='--', label='precision')\n",
    "    plt.plot(thresholds, recalls[0:threshold_boundary],label='recall')\n",
    "    \n",
    "    # threshold 값 X 축의 Scale을 0.1 단위로 변경\n",
    "    start, end = plt.xlim()\n",
    "    plt.xticks(np.round(np.arange(start, end, 0.1),2))\n",
    "    \n",
    "    # x축, y축 label과 legend, 그리고 grid 설정\n",
    "    plt.xlabel('Threshold value'); plt.ylabel('Precision and Recall value')\n",
    "    plt.legend(); plt.grid()\n",
    "    plt.show()\n",
    "    \n",
    "precision_recall_curve_plot( y_test_2, lr_clf_2.predict_proba(X_test_2)[:, 1] )\n"
   ]
  },
  {
   "cell_type": "markdown",
   "metadata": {
    "id": "8kVmYh4WXswX"
   },
   "source": [
    "#6.결론"
   ]
  },
  {
   "cell_type": "markdown",
   "metadata": {
    "id": "3qtkgmJa2jdf"
   },
   "source": [
    "1. 의사결정나무분류기를 사용하여 변수의 중요도를 계산하여 변수를 선정하여 데이터 분석을 한 결과 전체 변수를 사용하여 분석을 진행하였을 때 보다 의사결정나무와 관련된 결과에서만 정확도가 상승하였다.\n",
    "\n",
    "2. 의사결정나무, 의사결정나무에 대한 k-fold, 층화교차검증에서 정확도가 상승하였다.\n",
    "\n",
    "3. 전체 방법 중 로지스틱 회귀를 사용한 분석에서 가장 높은 정확도를 보여주었다.\n",
    "\n"
   ]
  }
 ],
 "metadata": {
  "colab": {
   "authorship_tag": "ABX9TyOk4+tbol9yybF2tfm8W7KN",
   "collapsed_sections": [
    "2aZsjk-dTz8_",
    "hDukMDXQ05F8",
    "cmdFYxs0UmOV",
    "LYE85cwh52Es",
    "7sELZ3OXAKhp"
   ],
   "provenance": [
    {
     "file_id": "1cBAoIex9aL44EKTR9njPWpdOKn6YF8YL",
     "timestamp": 1669431532238
    }
   ]
  },
  "kernelspec": {
   "display_name": "Python 3 (ipykernel)",
   "language": "python",
   "name": "python3"
  },
  "language_info": {
   "codemirror_mode": {
    "name": "ipython",
    "version": 3
   },
   "file_extension": ".py",
   "mimetype": "text/x-python",
   "name": "python",
   "nbconvert_exporter": "python",
   "pygments_lexer": "ipython3",
   "version": "3.10.6"
  }
 },
 "nbformat": 4,
 "nbformat_minor": 1
}
